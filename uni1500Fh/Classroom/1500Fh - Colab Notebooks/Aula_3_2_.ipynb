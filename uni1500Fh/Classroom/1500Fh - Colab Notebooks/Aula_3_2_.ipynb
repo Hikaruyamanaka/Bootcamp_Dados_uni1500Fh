{
  "nbformat": 4,
  "nbformat_minor": 0,
  "metadata": {
    "colab": {
      "name": "Aula 3.2 .ipynb",
      "provenance": [],
      "collapsed_sections": []
    },
    "kernelspec": {
      "name": "python3",
      "display_name": "Python 3"
    },
    "language_info": {
      "name": "python"
    }
  },
  "cells": [
    {
      "cell_type": "code",
      "execution_count": 9,
      "metadata": {
        "id": "hB8MPaasOXxb"
      },
      "outputs": [],
      "source": [
        "import matplotlib.pyplot as plt\n",
        "import seaborn as sns"
      ]
    },
    {
      "cell_type": "code",
      "source": [
        "# Definindo estilo de plotagem: grande cinza no fundo e paleta de cores\n",
        "# custom_params = {\"axes.spines.right\": False, \"axes.spines.top\"´: False}\n",
        "\n",
        "sns.set_theme(style='darkgrid', # rc = custom_params,\n",
        "              palette='colorblind', rc={'figure.figsize':(7,6)})"
      ],
      "metadata": {
        "id": "HtssV4UaUTVI"
      },
      "execution_count": 49,
      "outputs": []
    },
    {
      "cell_type": "code",
      "source": [
        "# Carregando Dataset\n",
        "tips = sns.load_dataset('tips')\n",
        "tips"
      ],
      "metadata": {
        "id": "MFjdaXh3VV8L",
        "colab": {
          "base_uri": "https://localhost:8080/",
          "height": 423
        },
        "outputId": "6bdc7fb4-7dbb-4300-d1ff-25a26c945b6e"
      },
      "execution_count": 50,
      "outputs": [
        {
          "output_type": "execute_result",
          "data": {
            "text/plain": [
              "     total_bill   tip     sex smoker   day    time  size\n",
              "0         16.99  1.01  Female     No   Sun  Dinner     2\n",
              "1         10.34  1.66    Male     No   Sun  Dinner     3\n",
              "2         21.01  3.50    Male     No   Sun  Dinner     3\n",
              "3         23.68  3.31    Male     No   Sun  Dinner     2\n",
              "4         24.59  3.61  Female     No   Sun  Dinner     4\n",
              "..          ...   ...     ...    ...   ...     ...   ...\n",
              "239       29.03  5.92    Male     No   Sat  Dinner     3\n",
              "240       27.18  2.00  Female    Yes   Sat  Dinner     2\n",
              "241       22.67  2.00    Male    Yes   Sat  Dinner     2\n",
              "242       17.82  1.75    Male     No   Sat  Dinner     2\n",
              "243       18.78  3.00  Female     No  Thur  Dinner     2\n",
              "\n",
              "[244 rows x 7 columns]"
            ],
            "text/html": [
              "\n",
              "  <div id=\"df-19f623c3-69b8-4993-835e-cb4f7f3e29d4\">\n",
              "    <div class=\"colab-df-container\">\n",
              "      <div>\n",
              "<style scoped>\n",
              "    .dataframe tbody tr th:only-of-type {\n",
              "        vertical-align: middle;\n",
              "    }\n",
              "\n",
              "    .dataframe tbody tr th {\n",
              "        vertical-align: top;\n",
              "    }\n",
              "\n",
              "    .dataframe thead th {\n",
              "        text-align: right;\n",
              "    }\n",
              "</style>\n",
              "<table border=\"1\" class=\"dataframe\">\n",
              "  <thead>\n",
              "    <tr style=\"text-align: right;\">\n",
              "      <th></th>\n",
              "      <th>total_bill</th>\n",
              "      <th>tip</th>\n",
              "      <th>sex</th>\n",
              "      <th>smoker</th>\n",
              "      <th>day</th>\n",
              "      <th>time</th>\n",
              "      <th>size</th>\n",
              "    </tr>\n",
              "  </thead>\n",
              "  <tbody>\n",
              "    <tr>\n",
              "      <th>0</th>\n",
              "      <td>16.99</td>\n",
              "      <td>1.01</td>\n",
              "      <td>Female</td>\n",
              "      <td>No</td>\n",
              "      <td>Sun</td>\n",
              "      <td>Dinner</td>\n",
              "      <td>2</td>\n",
              "    </tr>\n",
              "    <tr>\n",
              "      <th>1</th>\n",
              "      <td>10.34</td>\n",
              "      <td>1.66</td>\n",
              "      <td>Male</td>\n",
              "      <td>No</td>\n",
              "      <td>Sun</td>\n",
              "      <td>Dinner</td>\n",
              "      <td>3</td>\n",
              "    </tr>\n",
              "    <tr>\n",
              "      <th>2</th>\n",
              "      <td>21.01</td>\n",
              "      <td>3.50</td>\n",
              "      <td>Male</td>\n",
              "      <td>No</td>\n",
              "      <td>Sun</td>\n",
              "      <td>Dinner</td>\n",
              "      <td>3</td>\n",
              "    </tr>\n",
              "    <tr>\n",
              "      <th>3</th>\n",
              "      <td>23.68</td>\n",
              "      <td>3.31</td>\n",
              "      <td>Male</td>\n",
              "      <td>No</td>\n",
              "      <td>Sun</td>\n",
              "      <td>Dinner</td>\n",
              "      <td>2</td>\n",
              "    </tr>\n",
              "    <tr>\n",
              "      <th>4</th>\n",
              "      <td>24.59</td>\n",
              "      <td>3.61</td>\n",
              "      <td>Female</td>\n",
              "      <td>No</td>\n",
              "      <td>Sun</td>\n",
              "      <td>Dinner</td>\n",
              "      <td>4</td>\n",
              "    </tr>\n",
              "    <tr>\n",
              "      <th>...</th>\n",
              "      <td>...</td>\n",
              "      <td>...</td>\n",
              "      <td>...</td>\n",
              "      <td>...</td>\n",
              "      <td>...</td>\n",
              "      <td>...</td>\n",
              "      <td>...</td>\n",
              "    </tr>\n",
              "    <tr>\n",
              "      <th>239</th>\n",
              "      <td>29.03</td>\n",
              "      <td>5.92</td>\n",
              "      <td>Male</td>\n",
              "      <td>No</td>\n",
              "      <td>Sat</td>\n",
              "      <td>Dinner</td>\n",
              "      <td>3</td>\n",
              "    </tr>\n",
              "    <tr>\n",
              "      <th>240</th>\n",
              "      <td>27.18</td>\n",
              "      <td>2.00</td>\n",
              "      <td>Female</td>\n",
              "      <td>Yes</td>\n",
              "      <td>Sat</td>\n",
              "      <td>Dinner</td>\n",
              "      <td>2</td>\n",
              "    </tr>\n",
              "    <tr>\n",
              "      <th>241</th>\n",
              "      <td>22.67</td>\n",
              "      <td>2.00</td>\n",
              "      <td>Male</td>\n",
              "      <td>Yes</td>\n",
              "      <td>Sat</td>\n",
              "      <td>Dinner</td>\n",
              "      <td>2</td>\n",
              "    </tr>\n",
              "    <tr>\n",
              "      <th>242</th>\n",
              "      <td>17.82</td>\n",
              "      <td>1.75</td>\n",
              "      <td>Male</td>\n",
              "      <td>No</td>\n",
              "      <td>Sat</td>\n",
              "      <td>Dinner</td>\n",
              "      <td>2</td>\n",
              "    </tr>\n",
              "    <tr>\n",
              "      <th>243</th>\n",
              "      <td>18.78</td>\n",
              "      <td>3.00</td>\n",
              "      <td>Female</td>\n",
              "      <td>No</td>\n",
              "      <td>Thur</td>\n",
              "      <td>Dinner</td>\n",
              "      <td>2</td>\n",
              "    </tr>\n",
              "  </tbody>\n",
              "</table>\n",
              "<p>244 rows × 7 columns</p>\n",
              "</div>\n",
              "      <button class=\"colab-df-convert\" onclick=\"convertToInteractive('df-19f623c3-69b8-4993-835e-cb4f7f3e29d4')\"\n",
              "              title=\"Convert this dataframe to an interactive table.\"\n",
              "              style=\"display:none;\">\n",
              "        \n",
              "  <svg xmlns=\"http://www.w3.org/2000/svg\" height=\"24px\"viewBox=\"0 0 24 24\"\n",
              "       width=\"24px\">\n",
              "    <path d=\"M0 0h24v24H0V0z\" fill=\"none\"/>\n",
              "    <path d=\"M18.56 5.44l.94 2.06.94-2.06 2.06-.94-2.06-.94-.94-2.06-.94 2.06-2.06.94zm-11 1L8.5 8.5l.94-2.06 2.06-.94-2.06-.94L8.5 2.5l-.94 2.06-2.06.94zm10 10l.94 2.06.94-2.06 2.06-.94-2.06-.94-.94-2.06-.94 2.06-2.06.94z\"/><path d=\"M17.41 7.96l-1.37-1.37c-.4-.4-.92-.59-1.43-.59-.52 0-1.04.2-1.43.59L10.3 9.45l-7.72 7.72c-.78.78-.78 2.05 0 2.83L4 21.41c.39.39.9.59 1.41.59.51 0 1.02-.2 1.41-.59l7.78-7.78 2.81-2.81c.8-.78.8-2.07 0-2.86zM5.41 20L4 18.59l7.72-7.72 1.47 1.35L5.41 20z\"/>\n",
              "  </svg>\n",
              "      </button>\n",
              "      \n",
              "  <style>\n",
              "    .colab-df-container {\n",
              "      display:flex;\n",
              "      flex-wrap:wrap;\n",
              "      gap: 12px;\n",
              "    }\n",
              "\n",
              "    .colab-df-convert {\n",
              "      background-color: #E8F0FE;\n",
              "      border: none;\n",
              "      border-radius: 50%;\n",
              "      cursor: pointer;\n",
              "      display: none;\n",
              "      fill: #1967D2;\n",
              "      height: 32px;\n",
              "      padding: 0 0 0 0;\n",
              "      width: 32px;\n",
              "    }\n",
              "\n",
              "    .colab-df-convert:hover {\n",
              "      background-color: #E2EBFA;\n",
              "      box-shadow: 0px 1px 2px rgba(60, 64, 67, 0.3), 0px 1px 3px 1px rgba(60, 64, 67, 0.15);\n",
              "      fill: #174EA6;\n",
              "    }\n",
              "\n",
              "    [theme=dark] .colab-df-convert {\n",
              "      background-color: #3B4455;\n",
              "      fill: #D2E3FC;\n",
              "    }\n",
              "\n",
              "    [theme=dark] .colab-df-convert:hover {\n",
              "      background-color: #434B5C;\n",
              "      box-shadow: 0px 1px 3px 1px rgba(0, 0, 0, 0.15);\n",
              "      filter: drop-shadow(0px 1px 2px rgba(0, 0, 0, 0.3));\n",
              "      fill: #FFFFFF;\n",
              "    }\n",
              "  </style>\n",
              "\n",
              "      <script>\n",
              "        const buttonEl =\n",
              "          document.querySelector('#df-19f623c3-69b8-4993-835e-cb4f7f3e29d4 button.colab-df-convert');\n",
              "        buttonEl.style.display =\n",
              "          google.colab.kernel.accessAllowed ? 'block' : 'none';\n",
              "\n",
              "        async function convertToInteractive(key) {\n",
              "          const element = document.querySelector('#df-19f623c3-69b8-4993-835e-cb4f7f3e29d4');\n",
              "          const dataTable =\n",
              "            await google.colab.kernel.invokeFunction('convertToInteractive',\n",
              "                                                     [key], {});\n",
              "          if (!dataTable) return;\n",
              "\n",
              "          const docLinkHtml = 'Like what you see? Visit the ' +\n",
              "            '<a target=\"_blank\" href=https://colab.research.google.com/notebooks/data_table.ipynb>data table notebook</a>'\n",
              "            + ' to learn more about interactive tables.';\n",
              "          element.innerHTML = '';\n",
              "          dataTable['output_type'] = 'display_data';\n",
              "          await google.colab.output.renderOutput(dataTable, element);\n",
              "          const docLink = document.createElement('div');\n",
              "          docLink.innerHTML = docLinkHtml;\n",
              "          element.appendChild(docLink);\n",
              "        }\n",
              "      </script>\n",
              "    </div>\n",
              "  </div>\n",
              "  "
            ]
          },
          "metadata": {},
          "execution_count": 50
        }
      ]
    },
    {
      "cell_type": "markdown",
      "source": [
        "# ***GRÁFICOS:***"
      ],
      "metadata": {
        "id": "QNacJMQhXwmn"
      }
    },
    {
      "cell_type": "markdown",
      "source": [
        "# *Horizontal e Vertical*"
      ],
      "metadata": {
        "id": "lHtmjzZVYf0q"
      }
    },
    {
      "cell_type": "code",
      "source": [
        "# https://seaborn.pydata.org/generated/seaborn.barplot.html\n",
        "# Plotando um gráfico de barra\n",
        "\n",
        "sns.barplot(\n",
        "    y = 'total_bill',   # Para vertical: y = \"total_bill\",\n",
        "    x = 'day',          # Para horizontal: x = 'day',\n",
        "    data = tips,\n",
        "    estimator = sum,\n",
        "    ci = None,\n",
        "    # color = '#69b3a2' \n",
        ");"
      ],
      "metadata": {
        "id": "AStYUmHqVr9A",
        "colab": {
          "base_uri": "https://localhost:8080/",
          "height": 394
        },
        "outputId": "0988e74d-0a0a-42e1-c766-e8e5acf81743"
      },
      "execution_count": 51,
      "outputs": [
        {
          "output_type": "display_data",
          "data": {
            "text/plain": [
              "<Figure size 504x432 with 1 Axes>"
            ],
            "image/png": "[encoded data removed]"
          },
          "metadata": {}
        }
      ]
    },
    {
      "cell_type": "markdown",
      "source": [
        "# *Com ordenação*"
      ],
      "metadata": {
        "id": "5U4nEUZ-Yz72"
      }
    },
    {
      "cell_type": "code",
      "source": [
        "# Plotar o gráfico onde as barras estejam nessa ordem: ['Fri', 'Thur', 'Sun', 'Sat']\n",
        "\n",
        "sns.barplot(\n",
        "    x = 'total_bill',\n",
        "    y = 'day',\n",
        "    data = tips,\n",
        "    estimator = sum,\n",
        "    ci = None,\n",
        "    order = ['Fri', 'Thur', 'Sun', 'Sat'],\n",
        "    color = '#69b3a2'\n",
        ");"
      ],
      "metadata": {
        "id": "yLXiu8dDWqAW",
        "colab": {
          "base_uri": "https://localhost:8080/",
          "height": 394
        },
        "outputId": "0e460e95-994e-4d75-9e56-4bb89b189a64"
      },
      "execution_count": 58,
      "outputs": [
        {
          "output_type": "display_data",
          "data": {
            "text/plain": [
              "<Figure size 504x432 with 1 Axes>"
            ],
            "image/png": "[encoded data removed]"
          },
          "metadata": {}
        }
      ]
    },
    {
      "cell_type": "markdown",
      "source": [
        " *Reordenar o gráfico por classificação de grupo. Por exemplo, desejo ter o grupo com o valor mais alto na parte superior e aquele com o valor mais baixo na parte inferior.*"
      ],
      "metadata": {
        "id": "KInc1ulBd3HY"
      }
    },
    {
      "cell_type": "code",
      "source": [
        "# \n",
        "\n",
        "import pandas as pd\n",
        "\n",
        "df = pd.DataFrame({\n",
        "    'Grupo': ['A', 'B', 'C', 'D', 'E', 'F', 'G'],\n",
        "    'Valor': [1, 10, 39, 23, 3, 42, 12]\n",
        "})\n",
        "\n",
        "# Reordenar o dataframe\n",
        "df = df.sort_values(['Valor'], ascending = False).reset_index(drop = True)\n",
        "\n",
        "# Gráfico\n",
        "sns.barplot(\n",
        "    x = 'Valor',\n",
        "    y = 'Grupo',\n",
        "    data = df,\n",
        "    estimator = sum,\n",
        "    color = 'royalblue'\n",
        ");"
      ],
      "metadata": {
        "id": "tN_AcvHUZIWx"
      },
      "execution_count": null,
      "outputs": []
    },
    {
      "cell_type": "markdown",
      "source": [
        "*Empilhados*"
      ],
      "metadata": {
        "id": "o1S0nL6XedOw"
      }
    },
    {
      "cell_type": "code",
      "source": [
        "# https://www.w3resource.com/pandas/dataframe/dataframe-unstack.php\n",
        "\n",
        "agg_tips = tips.groupby(['day', 'sex']) ['tip'].sum().unstack()\n",
        "\n",
        "agg_tips.plot(kind = 'bar', stacked = True)\n",
        "\n",
        "# Adiciona um título e girar os rótulos do eixo x para ficarem horizontais.\n",
        "plt.title('Gorjetas por dia e gênero', fontsize = '20');\n",
        "plt.xticks(rotation = 360);"
      ],
      "metadata": {
        "id": "QQKqWGRreh6X"
      },
      "execution_count": null,
      "outputs": []
    },
    {
      "cell_type": "markdown",
      "source": [
        "Ou através do ggplot:"
      ],
      "metadata": {
        "id": "COOoRqB1fWQF"
      }
    },
    {
      "cell_type": "code",
      "source": [
        "# !pip nstall git+https://github.com/has2k1/plotnine.git\n",
        "\n",
        "from plotnine import * \n",
        "\n",
        "import warnings\n",
        "warnings.filterwarnings('ignore')\n",
        "\n",
        "(ggplot(tips, aes('day', 'tip', fill = 'sex'))\n",
        " + geom_bar(stat = 'identity', position = 'stack')\n",
        " + ggtitle('Gorjetas por dia e gênero'))"
      ],
      "metadata": {
        "id": "hyGW4KcTfZqr"
      },
      "execution_count": null,
      "outputs": []
    },
    {
      "cell_type": "markdown",
      "source": [
        "### *Gráfico de Linhas*"
      ],
      "metadata": {
        "id": "uPXwrLqXg5lv"
      }
    },
    {
      "cell_type": "code",
      "source": [
        "# https://seaborn.pydata.org/generated/seaborn.lineplot.html\n",
        "\n",
        "sns.lineplot(x = 'day', y = 'total_bill',\n",
        "             hue = 'sex',\n",
        "             #style = 'time', # ou size\n",
        "             ci = None,\n",
        "             estimator = sum,\n",
        "             # makers = True,\n",
        "             # dashes = False,\n",
        "             data = tips\n",
        ");"
      ],
      "metadata": {
        "id": "Gdy_GLBWhEOh",
        "outputId": "c53e25e1-ce75-46d4-a2b5-dccb9663b156",
        "colab": {
          "base_uri": "https://localhost:8080/",
          "height": 394
        }
      },
      "execution_count": 65,
      "outputs": [
        {
          "output_type": "display_data",
          "data": {
            "text/plain": [
              "<Figure size 504x432 with 1 Axes>"
            ],
            "image/png": "[encoded data removed]"
          },
          "metadata": {}
        }
      ]
    },
    {
      "cell_type": "markdown",
      "source": [
        "### *Mapas do calor*"
      ],
      "metadata": {
        "id": "2XY77F-HhyX3"
      }
    },
    {
      "cell_type": "code",
      "source": [
        "te = tips.groupby(\n",
        "    by = ['day']).agg({\n",
        "        'total_bill':'sum',\n",
        "        'tip':'sum',\n",
        "    })"
      ],
      "metadata": {
        "id": "A-m3MLWVg6Gu"
      },
      "execution_count": 23,
      "outputs": []
    },
    {
      "cell_type": "code",
      "source": [
        "# num = tips[['total_bill', 'size']]\n",
        "\n",
        "sns.heatmap(te, cmap = 'coolwarm');"
      ],
      "metadata": {
        "id": "OP3qMc_PiLHG"
      },
      "execution_count": null,
      "outputs": []
    },
    {
      "cell_type": "markdown",
      "source": [
        "### *Correlação*"
      ],
      "metadata": {
        "id": "4w5g5IJajWfY"
      }
    },
    {
      "cell_type": "code",
      "source": [
        "import seaborn as sb\n",
        "\n",
        "dataplot = sb.heatmap(tips.corr(),\n",
        "                      cmap = 'YlGnBu',\n",
        "                      annot = True)"
      ],
      "metadata": {
        "id": "hCK8zmgRjahA"
      },
      "execution_count": null,
      "outputs": []
    },
    {
      "cell_type": "markdown",
      "source": [
        "### *Outro Dataset*"
      ],
      "metadata": {
        "id": "QLovbahNjhmq"
      }
    },
    {
      "cell_type": "code",
      "source": [
        "flights = sns.load_dataset('flights')\n",
        "flights = flights.pivot('month', 'year', 'passengers')\n",
        "# data"
      ],
      "metadata": {
        "id": "ngUZ8iEGjkos"
      },
      "execution_count": 67,
      "outputs": []
    },
    {
      "cell_type": "code",
      "source": [
        "# https://seaborn.pydata.org/generated/seaborn.heatmap.html?highlight=heatmap#seaborn.heatmap\n",
        "\n",
        "sns.heatmap(flights, annot = True, fmt = 'd', linewidths = .5, cmap = 'Spectral');"
      ],
      "metadata": {
        "id": "QSCQn-tgmS9N"
      },
      "execution_count": null,
      "outputs": []
    },
    {
      "cell_type": "markdown",
      "source": [
        "### *Histograma*"
      ],
      "metadata": {
        "id": "FsQ8cGw2nK7V"
      }
    },
    {
      "cell_type": "markdown",
      "source": [
        "***Base de dados Medidas resumo***"
      ],
      "metadata": {
        "id": "jN3Y5xzKgw0f"
      }
    },
    {
      "cell_type": "code",
      "source": [
        "import seaborn as sns\n",
        "import pandas as pd\n",
        "df = pd.read_excel('/Hikaru Yamanaka - Análise Descritiva (Medidas).xlsx')\n",
        "df"
      ],
      "metadata": {
        "id": "V3a_tIQcnNSm"
      },
      "execution_count": null,
      "outputs": []
    },
    {
      "cell_type": "code",
      "source": [
        "# https://seaborn.pydata.org/generated/seaborn.histplot.html\n",
        "sns.histplot(data = df,\n",
        "             x = 'income',\n",
        "             #y = income,\n",
        "             #binwidth = 1000,\n",
        "             #bins = 30,\n",
        "             #kd = True,\n",
        "             #hue = 'sex',\n",
        "             #multiple = 'stack',\n",
        "             #element = 'step',\n",
        "             );\n",
        "\n",
        "plt.axvline(x = df.income.mean(),\n",
        "            color = 'red');\n",
        "plt.axhline(40);            "
      ],
      "metadata": {
        "id": "JXnp-xc1in-X"
      },
      "execution_count": null,
      "outputs": []
    },
    {
      "cell_type": "markdown",
      "source": [
        "## *Boxplot*"
      ],
      "metadata": {
        "id": "P4hMnR-4kUiO"
      }
    },
    {
      "cell_type": "markdown",
      "source": [
        "*Dataset tips*"
      ],
      "metadata": {
        "id": "mPEgSrqXkbXa"
      }
    },
    {
      "cell_type": "code",
      "source": [
        "# https://seaborn.pydata.org/generated/seaborn.boxplot.html\n",
        "sns.boxplot(x = tips['total_bill']);"
      ],
      "metadata": {
        "id": "acL89gxtkgAo"
      },
      "execution_count": null,
      "outputs": []
    },
    {
      "cell_type": "code",
      "source": [
        "sns.boxplot(x = 'day', y = 'total_bill',\n",
        "            #hue = 'smoker',\n",
        "            #orient = 'h',\n",
        "            data = tips);"
      ],
      "metadata": {
        "id": "Vx9rAkIKh_T0"
      },
      "execution_count": null,
      "outputs": []
    },
    {
      "cell_type": "code",
      "source": [
        "sns.catplot(x = 'sex', y = 'total_bill',\n",
        "            hue = 'smoker', col = 'time',\n",
        "            data = tips,\n",
        "            kind = 'box', #por ser do tipo catplot poderia ser bar também\n",
        "            height = 6, aspect = .9);"
      ],
      "metadata": {
        "id": "F-F7gJcGn3EV"
      },
      "execution_count": null,
      "outputs": []
    },
    {
      "cell_type": "markdown",
      "source": [
        "*Com os pontos*"
      ],
      "metadata": {
        "id": "qp9nwe0PoeuT"
      }
    },
    {
      "cell_type": "code",
      "source": [
        "sns.boxplot(x = 'day', y = 'total_bill', data = tips);"
      ],
      "metadata": {
        "id": "luzcgXOCohfY"
      },
      "execution_count": null,
      "outputs": []
    },
    {
      "cell_type": "markdown",
      "source": [
        "## *Gráfico de Dispersão*"
      ],
      "metadata": {
        "id": "-oZ-EIS4pIKF"
      }
    },
    {
      "cell_type": "markdown",
      "source": [
        "### *Seaborn*"
      ],
      "metadata": {
        "id": "RPwzKj_dpMHG"
      }
    },
    {
      "cell_type": "code",
      "source": [
        "# https://seaborn.pydata.org/generated/seaborn.scatterplot.html\n",
        "sns.scatterplot(data = df, x = 'age', y = 'income',\n",
        "                #hue = 'region',\n",
        "                #style = 'sex',\n",
        "                #size = 'married'\n",
        "                );\n",
        "\n",
        "#sns.scatterplot(data = tips, x = 'total_bill', y = 'tip');"
      ],
      "metadata": {
        "id": "slbRyJEmpQ2E"
      },
      "execution_count": null,
      "outputs": []
    },
    {
      "cell_type": "code",
      "source": [
        "# https://seaborn.pydata.org/tutorial/relational.html\n",
        "sns.relplot(\n",
        "    data = df, x = 'age', y = 'income',\n",
        "    col = 'married', hue = 'sex', style = 'sex',\n",
        "    #kind = 'line',\n",
        "    #ci = None,\n",
        ");"
      ],
      "metadata": {
        "id": "dBQmdhGtpouZ"
      },
      "execution_count": null,
      "outputs": []
    },
    {
      "cell_type": "markdown",
      "source": [
        "### *Plotly*"
      ],
      "metadata": {
        "id": "lwc8OVeoqDRY"
      }
    },
    {
      "cell_type": "code",
      "source": [
        "import pandas as pd\n",
        "url = ('https://github.com/scudilio/Visualizacao_de_dados/blob/master/datasets/gapminder_final.xlsx?raw=true')\n",
        "pib = pd.read_excel(url)\n",
        "pib"
      ],
      "metadata": {
        "id": "ylMZQk5MrU46"
      },
      "execution_count": null,
      "outputs": []
    },
    {
      "cell_type": "code",
      "source": [
        "import plotly.express as px\n",
        "\n",
        "fig = px.scatter(pib, x = 'gdpPercap', y = 'lifeExp',\n",
        "                 #log_x = True,\n",
        "                 width = 800)\n",
        "\n",
        "fig.update_traces(marker = dict(size = 12, line = dict(width = 2)),\n",
        "                  selector = dict(mode = 'markers'))\n",
        "\n",
        "fig.update_layout(title = 'PIB per capita X Expectativa de vida')\n",
        "fig.update_xaxes(title = 'PIB per capita')\n",
        "fig.update_yaxes(title = 'Expectativa de vida')\n",
        "fig.show()"
      ],
      "metadata": {
        "id": "Dwr6TyiDr6c2"
      },
      "execution_count": null,
      "outputs": []
    },
    {
      "cell_type": "markdown",
      "source": [
        "#### *Cuidados - Overplotting Soluções*"
      ],
      "metadata": {
        "id": "-uhxI5UmtvXT"
      }
    },
    {
      "cell_type": "code",
      "source": [
        "df_sample = pib.sample(n = 100)\n",
        "\n",
        "fig = px.scatter(df_sample, x = 'gdpPercap', y = 'lifeExp', width = 800,\n",
        "                 #opacity = 0.5,\n",
        "                 )\n",
        "\n",
        "#fig.update_traces(marker = dict(size = 12, line = dict(width = 2)), selector = dict(mode = 'markers'))\n",
        "\n",
        "fig.update_layout(title = 'PIB per capita X Expectativa de vida')\n",
        "fig.update_xaxes(title = 'Log (PIB per capita)')\n",
        "fig.update_yaxes(title = 'Expectativa de vida')\n",
        "fig.show()"
      ],
      "metadata": {
        "id": "VGd2Xd5ouJFh"
      },
      "execution_count": null,
      "outputs": []
    },
    {
      "cell_type": "markdown",
      "source": [
        "#### *Variações*"
      ],
      "metadata": {
        "id": "FgpddPyFvrI_"
      }
    },
    {
      "cell_type": "code",
      "source": [
        "df_2019 = pib[pib['year'] == 2019]\n",
        "\n",
        "fig = px.scatter(df_2019, x = 'gdpPercap', y = 'lifeExp', hover_name = 'country', width = 800)\n",
        "fig.show()"
      ],
      "metadata": {
        "id": "-3ZD-7ocuE8I"
      },
      "execution_count": null,
      "outputs": []
    },
    {
      "cell_type": "markdown",
      "source": [
        "#### *Trivariado Categórico*\n"
      ],
      "metadata": {
        "id": "BuCXD2MGwRXF"
      }
    },
    {
      "cell_type": "code",
      "source": [
        "fig = px.scatter(df_2019, x = 'gdpPercap', y = 'lifeExp',\n",
        "                 color = 'continent',\n",
        "                 size = 'pop',\n",
        "                 hover_name = 'country',\n",
        "                 #symbol = 'continent',\n",
        "                 width = 800)\n",
        "\n",
        "fig.update_traces(marker = dict(size = 12,\n",
        "                                line = dict(width = 2)),\n",
        "                  selector = dict(mode = 'markers'))\n",
        "\n",
        "fig.show()"
      ],
      "metadata": {
        "id": "24ersgLKwYy9"
      },
      "execution_count": null,
      "outputs": []
    },
    {
      "cell_type": "markdown",
      "source": [
        "#### *Trivariado Numérico*"
      ],
      "metadata": {
        "id": "YqB-CtPcxJbR"
      }
    },
    {
      "cell_type": "code",
      "source": [
        "fig = px.scatter(df_2019, x = 'gdpPercap', y = 'lifeExp', \n",
        "                 size = 'pop', hover_name = 'country',\n",
        "                 color = 'pop',\n",
        "                 size_max = 60,\n",
        "                 width = 800)\n",
        "fig.show()"
      ],
      "metadata": {
        "id": "EerG4aOoxOWt"
      },
      "execution_count": null,
      "outputs": []
    },
    {
      "cell_type": "markdown",
      "source": [
        "### *Multivariado*"
      ],
      "metadata": {
        "id": "KVLhrCF5xpsM"
      }
    },
    {
      "cell_type": "code",
      "source": [
        "fig = px.scatter(df_2019, x = 'gdpPercap', y = 'lifeExp', \n",
        "                 size = 'pop',\n",
        "                 color = 'continent',\n",
        "                 hover_name = 'country',\n",
        "                 #log_x = True,\n",
        "                 size_max = 60, width = 800)\n",
        "fig.show()"
      ],
      "metadata": {
        "id": "QEkU9F43xtdS"
      },
      "execution_count": null,
      "outputs": []
    },
    {
      "cell_type": "markdown",
      "source": [
        "#### *Animado*"
      ],
      "metadata": {
        "id": "ccg3cJaszV0I"
      }
    },
    {
      "cell_type": "code",
      "source": [
        "px.scatter(pib, x = 'gdpPercap', y = 'lifeExp',\n",
        "           animation_frame = 'year', animation_group = 'country',\n",
        "           siz = 'pop', color = 'continent', hover_name = 'country',\n",
        "           log_x = True,\n",
        "           wigth = 900, size_max = 60,\n",
        "           range_x = [100,100000], range_y = [15,90])"
      ],
      "metadata": {
        "id": "qZvgA2_zzZEy"
      },
      "execution_count": null,
      "outputs": []
    },
    {
      "cell_type": "markdown",
      "source": [
        "#### *Linha de tendência*"
      ],
      "metadata": {
        "id": "KPPKKMVj0GD1"
      }
    },
    {
      "cell_type": "code",
      "source": [
        "fig = px.scatter(df_sample, x = 'gdpPercap', y = 'lifeExp',\n",
        "              hover_name = 'country',\n",
        "              trendline = 'ols',\n",
        "              #log_x = True,\n",
        "              #trendline_options = dict(log_x = True),  ## Eixo X com escala log e ajuste transformando em log\n",
        "              #size_max = 60,\n",
        "              width = 800)\n",
        "fig.show()"
      ],
      "metadata": {
        "id": "1_CF1JAF0Kdr"
      },
      "execution_count": null,
      "outputs": []
    }
  ]
}