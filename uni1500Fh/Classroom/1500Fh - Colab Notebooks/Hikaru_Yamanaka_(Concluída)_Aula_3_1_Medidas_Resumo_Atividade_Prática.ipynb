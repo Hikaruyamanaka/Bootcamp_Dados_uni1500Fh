{
  "nbformat": 4,
  "nbformat_minor": 0,
  "metadata": {
    "colab": {
      "name": "Hikaru Yamanaka (Concluída) -  Aula 3.1 - Medidas Resumo - Atividade Prática",
      "provenance": [],
      "collapsed_sections": []
    },
    "kernelspec": {
      "name": "python3",
      "display_name": "Python 3"
    },
    "language_info": {
      "name": "python"
    }
  },
  "cells": [
    {
      "cell_type": "markdown",
      "source": [
        "### (Aula 3.1) Estatística Descritiva - Medidas-Resumo"
      ],
      "metadata": {
        "id": "EnVFxHI0L8ye"
      }
    },
    {
      "cell_type": "markdown",
      "source": [
        "*1.* Leia o arquivo `Análise Descritiva (Medidas)`, salve em uma variável e mostre as cinco primeiras linhas."
      ],
      "metadata": {
        "id": "cB5faRqrMUZQ"
      }
    },
    {
      "cell_type": "code",
      "source": [
        "import pandas as pd\n",
        "\n",
        "df = pd.read_excel('/content/Hikaru Yamanaka - Análise Descritiva (Medidas).xlsx')\n",
        "df"
      ],
      "metadata": {
        "id": "wuQK9vBbp5jd",
        "colab": {
          "base_uri": "https://localhost:8080/",
          "height": 424
        },
        "outputId": "8e507ba9-aed1-43f7-9e36-fcb13bda2abe"
      },
      "execution_count": 4,
      "outputs": [
        {
          "output_type": "execute_result",
          "data": {
            "text/plain": [
              "          id  age     sex    region    income married  children  car save_act  \\\n",
              "0    ID12346   46    MALE  SUBURBAN  37770.90      NO         0  YES      YES   \n",
              "1    ID12291   67  FEMALE  SUBURBAN  63130.10     YES         2  YES      YES   \n",
              "2    ID12371   67  FEMALE  SUBURBAN  60747.50      NO         2   NO      YES   \n",
              "3    ID12111   66  FEMALE      TOWN  59803.90     YES         0   NO      YES   \n",
              "4    ID12235   66  FEMALE      TOWN  59503.80     YES         2  YES      YES   \n",
              "..       ...  ...     ...       ...       ...     ...       ...  ...      ...   \n",
              "325  ID12165   21    MALE      TOWN   5014.21      NO         0  YES      YES   \n",
              "326  ID12130   61    MALE     RURAL   2427.10     YES         1   NO       NO   \n",
              "327  ID12115   36    MALE     RURAL   1947.60     YES         0   NO      YES   \n",
              "328  ID12414   18  FEMALE     RURAL   1610.90      NO         2  YES      YES   \n",
              "329  ID12429   57  FEMALE     RURAL    508.20      NO         1   NO      YES   \n",
              "\n",
              "    current_act mortgage   pl  \n",
              "0           YES      YES   NO  \n",
              "1           YES       NO  YES  \n",
              "2           YES      YES  YES  \n",
              "3           YES       NO   NO  \n",
              "4           YES      YES  YES  \n",
              "..          ...      ...  ...  \n",
              "325         YES      YES   NO  \n",
              "326         YES       NO  YES  \n",
              "327         YES      YES   NO  \n",
              "328         YES       NO   NO  \n",
              "329          NO      YES  YES  \n",
              "\n",
              "[330 rows x 12 columns]"
            ],
            "text/html": [
              "\n",
              "  <div id=\"df-657f7fc8-5fdd-425c-95ec-797f0967e3b0\">\n",
              "    <div class=\"colab-df-container\">\n",
              "      <div>\n",
              "<style scoped>\n",
              "    .dataframe tbody tr th:only-of-type {\n",
              "        vertical-align: middle;\n",
              "    }\n",
              "\n",
              "    .dataframe tbody tr th {\n",
              "        vertical-align: top;\n",
              "    }\n",
              "\n",
              "    .dataframe thead th {\n",
              "        text-align: right;\n",
              "    }\n",
              "</style>\n",
              "<table border=\"1\" class=\"dataframe\">\n",
              "  <thead>\n",
              "    <tr style=\"text-align: right;\">\n",
              "      <th></th>\n",
              "      <th>id</th>\n",
              "      <th>age</th>\n",
              "      <th>sex</th>\n",
              "      <th>region</th>\n",
              "      <th>income</th>\n",
              "      <th>married</th>\n",
              "      <th>children</th>\n",
              "      <th>car</th>\n",
              "      <th>save_act</th>\n",
              "      <th>current_act</th>\n",
              "      <th>mortgage</th>\n",
              "      <th>pl</th>\n",
              "    </tr>\n",
              "  </thead>\n",
              "  <tbody>\n",
              "    <tr>\n",
              "      <th>0</th>\n",
              "      <td>ID12346</td>\n",
              "      <td>46</td>\n",
              "      <td>MALE</td>\n",
              "      <td>SUBURBAN</td>\n",
              "      <td>37770.90</td>\n",
              "      <td>NO</td>\n",
              "      <td>0</td>\n",
              "      <td>YES</td>\n",
              "      <td>YES</td>\n",
              "      <td>YES</td>\n",
              "      <td>YES</td>\n",
              "      <td>NO</td>\n",
              "    </tr>\n",
              "    <tr>\n",
              "      <th>1</th>\n",
              "      <td>ID12291</td>\n",
              "      <td>67</td>\n",
              "      <td>FEMALE</td>\n",
              "      <td>SUBURBAN</td>\n",
              "      <td>63130.10</td>\n",
              "      <td>YES</td>\n",
              "      <td>2</td>\n",
              "      <td>YES</td>\n",
              "      <td>YES</td>\n",
              "      <td>YES</td>\n",
              "      <td>NO</td>\n",
              "      <td>YES</td>\n",
              "    </tr>\n",
              "    <tr>\n",
              "      <th>2</th>\n",
              "      <td>ID12371</td>\n",
              "      <td>67</td>\n",
              "      <td>FEMALE</td>\n",
              "      <td>SUBURBAN</td>\n",
              "      <td>60747.50</td>\n",
              "      <td>NO</td>\n",
              "      <td>2</td>\n",
              "      <td>NO</td>\n",
              "      <td>YES</td>\n",
              "      <td>YES</td>\n",
              "      <td>YES</td>\n",
              "      <td>YES</td>\n",
              "    </tr>\n",
              "    <tr>\n",
              "      <th>3</th>\n",
              "      <td>ID12111</td>\n",
              "      <td>66</td>\n",
              "      <td>FEMALE</td>\n",
              "      <td>TOWN</td>\n",
              "      <td>59803.90</td>\n",
              "      <td>YES</td>\n",
              "      <td>0</td>\n",
              "      <td>NO</td>\n",
              "      <td>YES</td>\n",
              "      <td>YES</td>\n",
              "      <td>NO</td>\n",
              "      <td>NO</td>\n",
              "    </tr>\n",
              "    <tr>\n",
              "      <th>4</th>\n",
              "      <td>ID12235</td>\n",
              "      <td>66</td>\n",
              "      <td>FEMALE</td>\n",
              "      <td>TOWN</td>\n",
              "      <td>59503.80</td>\n",
              "      <td>YES</td>\n",
              "      <td>2</td>\n",
              "      <td>YES</td>\n",
              "      <td>YES</td>\n",
              "      <td>YES</td>\n",
              "      <td>YES</td>\n",
              "      <td>YES</td>\n",
              "    </tr>\n",
              "    <tr>\n",
              "      <th>...</th>\n",
              "      <td>...</td>\n",
              "      <td>...</td>\n",
              "      <td>...</td>\n",
              "      <td>...</td>\n",
              "      <td>...</td>\n",
              "      <td>...</td>\n",
              "      <td>...</td>\n",
              "      <td>...</td>\n",
              "      <td>...</td>\n",
              "      <td>...</td>\n",
              "      <td>...</td>\n",
              "      <td>...</td>\n",
              "    </tr>\n",
              "    <tr>\n",
              "      <th>325</th>\n",
              "      <td>ID12165</td>\n",
              "      <td>21</td>\n",
              "      <td>MALE</td>\n",
              "      <td>TOWN</td>\n",
              "      <td>5014.21</td>\n",
              "      <td>NO</td>\n",
              "      <td>0</td>\n",
              "      <td>YES</td>\n",
              "      <td>YES</td>\n",
              "      <td>YES</td>\n",
              "      <td>YES</td>\n",
              "      <td>NO</td>\n",
              "    </tr>\n",
              "    <tr>\n",
              "      <th>326</th>\n",
              "      <td>ID12130</td>\n",
              "      <td>61</td>\n",
              "      <td>MALE</td>\n",
              "      <td>RURAL</td>\n",
              "      <td>2427.10</td>\n",
              "      <td>YES</td>\n",
              "      <td>1</td>\n",
              "      <td>NO</td>\n",
              "      <td>NO</td>\n",
              "      <td>YES</td>\n",
              "      <td>NO</td>\n",
              "      <td>YES</td>\n",
              "    </tr>\n",
              "    <tr>\n",
              "      <th>327</th>\n",
              "      <td>ID12115</td>\n",
              "      <td>36</td>\n",
              "      <td>MALE</td>\n",
              "      <td>RURAL</td>\n",
              "      <td>1947.60</td>\n",
              "      <td>YES</td>\n",
              "      <td>0</td>\n",
              "      <td>NO</td>\n",
              "      <td>YES</td>\n",
              "      <td>YES</td>\n",
              "      <td>YES</td>\n",
              "      <td>NO</td>\n",
              "    </tr>\n",
              "    <tr>\n",
              "      <th>328</th>\n",
              "      <td>ID12414</td>\n",
              "      <td>18</td>\n",
              "      <td>FEMALE</td>\n",
              "      <td>RURAL</td>\n",
              "      <td>1610.90</td>\n",
              "      <td>NO</td>\n",
              "      <td>2</td>\n",
              "      <td>YES</td>\n",
              "      <td>YES</td>\n",
              "      <td>YES</td>\n",
              "      <td>NO</td>\n",
              "      <td>NO</td>\n",
              "    </tr>\n",
              "    <tr>\n",
              "      <th>329</th>\n",
              "      <td>ID12429</td>\n",
              "      <td>57</td>\n",
              "      <td>FEMALE</td>\n",
              "      <td>RURAL</td>\n",
              "      <td>508.20</td>\n",
              "      <td>NO</td>\n",
              "      <td>1</td>\n",
              "      <td>NO</td>\n",
              "      <td>YES</td>\n",
              "      <td>NO</td>\n",
              "      <td>YES</td>\n",
              "      <td>YES</td>\n",
              "    </tr>\n",
              "  </tbody>\n",
              "</table>\n",
              "<p>330 rows × 12 columns</p>\n",
              "</div>\n",
              "      <button class=\"colab-df-convert\" onclick=\"convertToInteractive('df-657f7fc8-5fdd-425c-95ec-797f0967e3b0')\"\n",
              "              title=\"Convert this dataframe to an interactive table.\"\n",
              "              style=\"display:none;\">\n",
              "        \n",
              "  <svg xmlns=\"http://www.w3.org/2000/svg\" height=\"24px\"viewBox=\"0 0 24 24\"\n",
              "       width=\"24px\">\n",
              "    <path d=\"M0 0h24v24H0V0z\" fill=\"none\"/>\n",
              "    <path d=\"M18.56 5.44l.94 2.06.94-2.06 2.06-.94-2.06-.94-.94-2.06-.94 2.06-2.06.94zm-11 1L8.5 8.5l.94-2.06 2.06-.94-2.06-.94L8.5 2.5l-.94 2.06-2.06.94zm10 10l.94 2.06.94-2.06 2.06-.94-2.06-.94-.94-2.06-.94 2.06-2.06.94z\"/><path d=\"M17.41 7.96l-1.37-1.37c-.4-.4-.92-.59-1.43-.59-.52 0-1.04.2-1.43.59L10.3 9.45l-7.72 7.72c-.78.78-.78 2.05 0 2.83L4 21.41c.39.39.9.59 1.41.59.51 0 1.02-.2 1.41-.59l7.78-7.78 2.81-2.81c.8-.78.8-2.07 0-2.86zM5.41 20L4 18.59l7.72-7.72 1.47 1.35L5.41 20z\"/>\n",
              "  </svg>\n",
              "      </button>\n",
              "      \n",
              "  <style>\n",
              "    .colab-df-container {\n",
              "      display:flex;\n",
              "      flex-wrap:wrap;\n",
              "      gap: 12px;\n",
              "    }\n",
              "\n",
              "    .colab-df-convert {\n",
              "      background-color: #E8F0FE;\n",
              "      border: none;\n",
              "      border-radius: 50%;\n",
              "      cursor: pointer;\n",
              "      display: none;\n",
              "      fill: #1967D2;\n",
              "      height: 32px;\n",
              "      padding: 0 0 0 0;\n",
              "      width: 32px;\n",
              "    }\n",
              "\n",
              "    .colab-df-convert:hover {\n",
              "      background-color: #E2EBFA;\n",
              "      box-shadow: 0px 1px 2px rgba(60, 64, 67, 0.3), 0px 1px 3px 1px rgba(60, 64, 67, 0.15);\n",
              "      fill: #174EA6;\n",
              "    }\n",
              "\n",
              "    [theme=dark] .colab-df-convert {\n",
              "      background-color: #3B4455;\n",
              "      fill: #D2E3FC;\n",
              "    }\n",
              "\n",
              "    [theme=dark] .colab-df-convert:hover {\n",
              "      background-color: #434B5C;\n",
              "      box-shadow: 0px 1px 3px 1px rgba(0, 0, 0, 0.15);\n",
              "      filter: drop-shadow(0px 1px 2px rgba(0, 0, 0, 0.3));\n",
              "      fill: #FFFFFF;\n",
              "    }\n",
              "  </style>\n",
              "\n",
              "      <script>\n",
              "        const buttonEl =\n",
              "          document.querySelector('#df-657f7fc8-5fdd-425c-95ec-797f0967e3b0 button.colab-df-convert');\n",
              "        buttonEl.style.display =\n",
              "          google.colab.kernel.accessAllowed ? 'block' : 'none';\n",
              "\n",
              "        async function convertToInteractive(key) {\n",
              "          const element = document.querySelector('#df-657f7fc8-5fdd-425c-95ec-797f0967e3b0');\n",
              "          const dataTable =\n",
              "            await google.colab.kernel.invokeFunction('convertToInteractive',\n",
              "                                                     [key], {});\n",
              "          if (!dataTable) return;\n",
              "\n",
              "          const docLinkHtml = 'Like what you see? Visit the ' +\n",
              "            '<a target=\"_blank\" href=https://colab.research.google.com/notebooks/data_table.ipynb>data table notebook</a>'\n",
              "            + ' to learn more about interactive tables.';\n",
              "          element.innerHTML = '';\n",
              "          dataTable['output_type'] = 'display_data';\n",
              "          await google.colab.output.renderOutput(dataTable, element);\n",
              "          const docLink = document.createElement('div');\n",
              "          docLink.innerHTML = docLinkHtml;\n",
              "          element.appendChild(docLink);\n",
              "        }\n",
              "      </script>\n",
              "    </div>\n",
              "  </div>\n",
              "  "
            ]
          },
          "metadata": {},
          "execution_count": 4
        }
      ]
    },
    {
      "cell_type": "markdown",
      "source": [
        "### Média"
      ],
      "metadata": {
        "id": "KQ1M_SJRMPFz"
      }
    },
    {
      "cell_type": "markdown",
      "source": [
        "*2.* Calcule a média salarial do banco de dados, arredonde para 3 casas decimais e interprete seu valor."
      ],
      "metadata": {
        "id": "BpwRcjyMOuCJ"
      }
    },
    {
      "cell_type": "code",
      "source": [
        "round(df['income'].mean(), 3)"
      ],
      "metadata": {
        "id": "fLAzYcEPSaM6"
      },
      "execution_count": null,
      "outputs": []
    },
    {
      "cell_type": "markdown",
      "source": [
        "# ***RESPOSTA:***\n",
        "\n",
        "*   Está calculando os valores da tabela 'income' fazendo a média e deixando com 3 casas decimais após a ','"
      ],
      "metadata": {
        "id": "X7xc9cKy_uRE"
      }
    },
    {
      "cell_type": "code",
      "source": [
        ""
      ],
      "metadata": {
        "id": "cTJx3GXS_97y"
      },
      "execution_count": null,
      "outputs": []
    },
    {
      "cell_type": "markdown",
      "source": [
        "*3.* Calcule a diferença das médias salariais dos indíviduos residentes no subúrbio e dos indivíduos que residem na área rural, e interprete o seu valor."
      ],
      "metadata": {
        "id": "MOFo3fiBSdQz"
      }
    },
    {
      "cell_type": "code",
      "source": [
        "df.loc[df['region'] == 'SUBURBAN', ['income']].mean()\n"
      ],
      "metadata": {
        "id": "1S6png-4SdQ1"
      },
      "execution_count": null,
      "outputs": []
    },
    {
      "cell_type": "code",
      "source": [
        "df.loc[df['region'] == 'RURAL', ['income']].mean()"
      ],
      "metadata": {
        "id": "gsVMTXtMDC70"
      },
      "execution_count": null,
      "outputs": []
    },
    {
      "cell_type": "markdown",
      "source": [
        "# ***RESPOSTA:***\n",
        "\n",
        "*   Temos pouca diferença entre as regiões 'suburban' e 'rural', porém a região 'suburban' tem uma vantagem acima de '1479,611519'.\n",
        "\n",
        "\n"
      ],
      "metadata": {
        "id": "8gafNhTtABTv"
      }
    },
    {
      "cell_type": "code",
      "source": [
        ""
      ],
      "metadata": {
        "id": "hYGaKTF0vdy0"
      },
      "execution_count": null,
      "outputs": []
    },
    {
      "cell_type": "markdown",
      "source": [
        "### Moda"
      ],
      "metadata": {
        "id": "tKigryWcSfac"
      }
    },
    {
      "cell_type": "markdown",
      "source": [
        "*4.* Calcule a moda de idade do banco de dados e interprete o seu valor."
      ],
      "metadata": {
        "id": "S6EXmyxkSv2_"
      }
    },
    {
      "cell_type": "code",
      "source": [
        "df['age'].mode()"
      ],
      "metadata": {
        "id": "Msp6FX4DTAQK"
      },
      "execution_count": null,
      "outputs": []
    },
    {
      "cell_type": "markdown",
      "source": [
        "# ***RESPOSTA:***\n",
        "\n",
        "*   Isso nos mostra que, no nosso banco de dados o valor que mais se repete na tabela 'age' é: 36\n",
        "\n"
      ],
      "metadata": {
        "id": "7QLoDDWFAWGL"
      }
    },
    {
      "cell_type": "code",
      "source": [
        ""
      ],
      "metadata": {
        "id": "RTQhZLp_AWQg"
      },
      "execution_count": null,
      "outputs": []
    },
    {
      "cell_type": "markdown",
      "source": [
        "### Mediana"
      ],
      "metadata": {
        "id": "BqGHpRfNTSeH"
      }
    },
    {
      "cell_type": "markdown",
      "source": [
        "*5.* Calcule a mediana de filhos do banco de dados e interprete o seu valor."
      ],
      "metadata": {
        "id": "FhTZMR4VSe-h"
      }
    },
    {
      "cell_type": "code",
      "source": [
        "df['children'].median()"
      ],
      "metadata": {
        "id": "w5aCve8NSe-j"
      },
      "execution_count": null,
      "outputs": []
    },
    {
      "cell_type": "markdown",
      "source": [
        "# ***RESPOSTA:***\n",
        "\n",
        "*   Está calculando a média dos filhos na tabela 'children'.\n",
        "\n"
      ],
      "metadata": {
        "id": "mh2MhleMAm2b"
      }
    },
    {
      "cell_type": "code",
      "source": [
        ""
      ],
      "metadata": {
        "id": "ZoDvelkxAnTr"
      },
      "execution_count": null,
      "outputs": []
    },
    {
      "cell_type": "markdown",
      "source": [
        "*6.* Calcule a mediana do salário das pessoas casadas que não possuem filhos. Em seguida, calcule a mediana do salário das pessoas casadas que não possuem filhos. Qual é a sua interpretação?"
      ],
      "metadata": {
        "id": "Lh3bIR2nT1bn"
      }
    },
    {
      "cell_type": "code",
      "source": [
        "condcas = (df['married'] == 'YES')\n",
        "condfi = (df['children'] == 0)\n",
        "\n",
        "\n",
        "df.loc[(condcas & condfi), ['income']].median()"
      ],
      "metadata": {
        "id": "8vTNUhLxUuMA"
      },
      "execution_count": null,
      "outputs": []
    },
    {
      "cell_type": "code",
      "source": [
        "condcas = (df['married'] == 'YES')\n",
        "condfi = (df['children'] == 1)\n",
        "\n",
        "df.loc[(condcas & condfi), ['income']].median()"
      ],
      "metadata": {
        "id": "g1r06GUqn9dE"
      },
      "execution_count": null,
      "outputs": []
    },
    {
      "cell_type": "code",
      "source": [
        "condcas = (df['married'] == 'YES')\n",
        "condfi = (df['children'] == 2)\n",
        "\n",
        "df.loc[(condcas & condfi), ['income']].median()"
      ],
      "metadata": {
        "id": "oZfmz3PuoIsa"
      },
      "execution_count": null,
      "outputs": []
    },
    {
      "cell_type": "code",
      "source": [
        "condcas = (df['married'] == 'YES')\n",
        "condfi = (df['children'] == 3)\n",
        "\n",
        "df.loc[(condcas & condfi), ['income']].median()"
      ],
      "metadata": {
        "id": "Aq5Wkn_koweg"
      },
      "execution_count": null,
      "outputs": []
    },
    {
      "cell_type": "markdown",
      "source": [
        "# ***RESPOSTA:***\n",
        "\n",
        "*   Vejo que a média de quem não possui 'nenhum (0)' filho está abaixo das outras, mas está mais próxima de quem possui '1' e '2' filhos e mais distante de quem possui '3' filhos.\n",
        "\n",
        "---\n",
        "\n",
        "*   Já quem possui entre '1' e '2' filhos, possui uma pequena diferença entre eles.\n",
        "\n",
        "---\n",
        "\n",
        "*   Enquanto pessoas que possuem '3' filhos, já tem uma média elevada comparada a quem não possui 'nenhum (0)' filho e tem uma distância acima também de quem possui '1' e '2' filhos."
      ],
      "metadata": {
        "id": "D7_vqE7i93C-"
      }
    },
    {
      "cell_type": "code",
      "source": [
        ""
      ],
      "metadata": {
        "id": "efMa22J--VAp"
      },
      "execution_count": null,
      "outputs": []
    },
    {
      "cell_type": "markdown",
      "source": [
        "## Medidas de dispersão"
      ],
      "metadata": {
        "id": "QYH-vcIpUz4e"
      }
    },
    {
      "cell_type": "markdown",
      "source": [
        "### Amplitude"
      ],
      "metadata": {
        "id": "KjqyG_dq0u4H"
      }
    },
    {
      "cell_type": "markdown",
      "source": [
        "*7.* Calcule a amplitude das rendas e interprete o seu valor.\n"
      ],
      "metadata": {
        "id": "RcbJ5VEM1FSD"
      }
    },
    {
      "cell_type": "code",
      "source": [
        "df['income'].max() - df['income'].min()"
      ],
      "metadata": {
        "id": "tiV4Ma5U01gL"
      },
      "execution_count": null,
      "outputs": []
    },
    {
      "cell_type": "markdown",
      "source": [
        "# ***RESPOSTA:***\n",
        "\n",
        "\n",
        "*   Isso quer dizer que, ele pega o maior valor e subtrai pelo menor valor do nosso banco de dados, por isso, é um resultado 'estranho'.\n",
        "\n",
        "---\n",
        "\n",
        "\n",
        "*   E se for analisar no nosso banco de dados, a renda (income) de maior valor é gigantesca em comparação ao de menor valor.\n",
        "\n"
      ],
      "metadata": {
        "id": "Gi-E8pEc9QJe"
      }
    },
    {
      "cell_type": "code",
      "source": [
        ""
      ],
      "metadata": {
        "id": "gJmBhPrb-Y4Y"
      },
      "execution_count": null,
      "outputs": []
    },
    {
      "cell_type": "markdown",
      "source": [
        "### Variância"
      ],
      "metadata": {
        "id": "r_LZ-K7KU4NX"
      }
    },
    {
      "cell_type": "markdown",
      "source": [
        "*8.* Calcule a variância do número de filhos e das idades. Em seguida, interprete os seus valores.\n",
        "\n"
      ],
      "metadata": {
        "id": "6mDE7sgKVGF9"
      }
    },
    {
      "cell_type": "code",
      "source": [
        "round((df['children'].var()), 2)"
      ],
      "metadata": {
        "id": "sW3QYKoQVFap"
      },
      "execution_count": null,
      "outputs": []
    },
    {
      "cell_type": "code",
      "source": [
        "round((df['age'].var()), 2)"
      ],
      "metadata": {
        "id": "QliPkfAr4dR5"
      },
      "execution_count": null,
      "outputs": []
    },
    {
      "cell_type": "markdown",
      "source": [
        "# ***RESPOSTA:***\n",
        "\n",
        "*  A variância da tabela 'children' ela se resulta na quantidade de filhos, pois seus valores são baixos, não ultrapassando mais que '3' filhos.\n",
        "\n",
        "---\n",
        "\n",
        "*  Agora a variância da tabela 'age' ela já tem um resultado mais alto, pois seu resultado está elevada ao quadrado (14.55 ²).\n",
        "\n"
      ],
      "metadata": {
        "id": "tt9sP_sg88R2"
      }
    },
    {
      "cell_type": "code",
      "source": [
        ""
      ],
      "metadata": {
        "id": "8m-vJ4NB9Lr_"
      },
      "execution_count": null,
      "outputs": []
    },
    {
      "cell_type": "markdown",
      "source": [
        "### Desvio padrão"
      ],
      "metadata": {
        "id": "u5XT7sbmXHTz"
      }
    },
    {
      "cell_type": "markdown",
      "source": [
        "*9.* Calcule o desvio padrão do número de filhos e das idades. Em seguida, interprete os seus valores."
      ],
      "metadata": {
        "id": "p-FlpvwkXFqo"
      }
    },
    {
      "cell_type": "code",
      "source": [
        "round(df['children'].std(), 2)"
      ],
      "metadata": {
        "id": "MViti8qLXFrO"
      },
      "execution_count": null,
      "outputs": []
    },
    {
      "cell_type": "code",
      "source": [
        "round(df['age'].std(), 2)"
      ],
      "metadata": {
        "id": "V79AcSq63BZ8"
      },
      "execution_count": null,
      "outputs": []
    },
    {
      "cell_type": "markdown",
      "source": [
        "# ***RESPOSTA:***\n",
        "\n",
        "*   O desvio padrão da tabela 'children' está mais coerente, pois mostra dados mais concentrados.\n",
        "\n",
        "---\n",
        "\n",
        "*   Agora para a tabela 'age', já nos mostra um resultado real sem estar elevada ao quadrado.\n"
      ],
      "metadata": {
        "id": "sHu-zUGt8HHn"
      }
    },
    {
      "cell_type": "code",
      "source": [
        ""
      ],
      "metadata": {
        "id": "OHDHelY68yz7"
      },
      "execution_count": null,
      "outputs": []
    },
    {
      "cell_type": "markdown",
      "source": [
        "## Summary"
      ],
      "metadata": {
        "id": "_bkXQQ0uXdpq"
      }
    },
    {
      "cell_type": "markdown",
      "source": [
        "*10.* Calcule as estatísticas descritivas para todas as colunas numéricas, arredondando para 2 casas decimais. Discorra sobre as interpretações que você achar mais interessantes e pertinentes."
      ],
      "metadata": {
        "id": "2Qvxs-p8XgbD"
      }
    },
    {
      "cell_type": "code",
      "source": [
        "round(df.describe(), 2)"
      ],
      "metadata": {
        "id": "7q76GZtKYUxk"
      },
      "execution_count": null,
      "outputs": []
    },
    {
      "cell_type": "markdown",
      "source": [
        "# ***RESPOSTA:***\n",
        "\n",
        "\n",
        "*   Achei interessante desde o início, a diferença entre o min e o máximo da renda(income), pois na amplitude tinha dado um valor 'suspeito'.\n",
        "\n",
        "---\n",
        "\n",
        "*   Achei interessante também que no segundo quartil (2/4), é onde mostra pessoas com uma certa estabilidade em sua renda (income) e estão quase parecidos com a tabela média."
      ],
      "metadata": {
        "id": "yjIEQAgt6-Pw"
      }
    },
    {
      "cell_type": "code",
      "source": [
        ""
      ],
      "metadata": {
        "id": "9AchfUSVN5AD"
      },
      "execution_count": null,
      "outputs": []
    },
    {
      "cell_type": "markdown",
      "source": [
        "*11.* Calcule as estatísticas descritivas para todas as colunas numéricas, agrupando-as pelo gênero. Como os valores obtidos aqui se comparam com os valores obtidos no item anterior? Qual é a sua interpretação?"
      ],
      "metadata": {
        "id": "O5g2vAozYZ0L"
      }
    },
    {
      "cell_type": "code",
      "source": [
        "round(df.groupby(df['sex']).describe(), 2)"
      ],
      "metadata": {
        "id": "jZzczvKpYZ0N"
      },
      "execution_count": null,
      "outputs": []
    },
    {
      "cell_type": "markdown",
      "source": [
        "# ***RESPOSTA:***\n",
        "\n",
        "*   Bom, ao comparar as duas tabelas, podemos ver que as médias das colunas são iguais em sua soma, porém ao agrupar em gênero, podemos ver valores diferentes na tabela 'children' e nas colunas 'mean' e 'std'. E, nas demais colunas são iguais.\n",
        "\n",
        "---\n",
        "\n",
        "*   Agora, comparando com a tabela 'age', podemos ver que ao agrupar em gênero a média de 'female' é um pouco superior a de 'male', e possui algumas diferenças acima também nas colunas: 'std', '25%', '50%, '75%' \n",
        "\n",
        "---\n",
        "\n",
        "*   Comparando a tabela 'income', podemos ver que o gênero 'female' possui mais dados acima que os 'males'. Como em: \n",
        "\n",
        "*   Nas colunas onde as 'females' possuem uma pequena vantagem são as: 'mean', 'std' e '50%'.\n",
        "\n",
        "*   Agora as colunas onde as 'females' possuem uma vantagem mais alta, são as: '25%' e 'max'.\n",
        "\n",
        "---\n",
        "\n",
        "*   Agora os 'males' levam uma vantagem alta na colunam '75%' e na coluna 'min' pois a vantagem é muito grande.\n",
        "\n",
        "---\n",
        "\n",
        "\n",
        "*   As tabelas se comparam em seus valores gerais, onde não tem distinção de gênero, mas de forma específica, agrupando-as fica melhor de entender o nosso banco de dados e sugerir melhorias ou uma estratégia de crescimento.\n",
        "\n",
        "\n",
        "\n",
        "\n",
        "\n",
        "\n",
        "\n",
        "\n",
        "\n",
        "\n",
        "\n"
      ],
      "metadata": {
        "id": "v9Hlz7noBCoq"
      }
    },
    {
      "cell_type": "code",
      "source": [
        ""
      ],
      "metadata": {
        "id": "NIbkpBjeN6rR"
      },
      "execution_count": null,
      "outputs": []
    }
  ]
}