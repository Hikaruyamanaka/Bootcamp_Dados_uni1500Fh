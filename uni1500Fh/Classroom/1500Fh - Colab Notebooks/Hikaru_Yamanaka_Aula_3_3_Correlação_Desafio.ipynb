{
  "nbformat": 4,
  "nbformat_minor": 0,
  "metadata": {
    "colab": {
      "name": "Hikaru Yamanaka - Aula_3_3_Correlação_Desafio.ipynb",
      "provenance": [],
      "collapsed_sections": []
    },
    "kernelspec": {
      "name": "python3",
      "display_name": "Python 3"
    },
    "language_info": {
      "name": "python"
    }
  },
  "cells": [
    {
      "cell_type": "markdown",
      "source": [
        "# Aula 3.3 - Correlação - Desafio\n",
        "\n",
        "Com dados *simulados** de **# vendas de máscaras** vs. **# casos confirmados de Covid** entre outras características (nº de pessoas negativadas para Covid; # mortes por Covid; valores de frete para vendas das máscaras e valor (R$) gasto na campnha de marketing até aquela data), responda as perguntas a seguir.  \n",
        "<br /> \n",
        "\n",
        "**Os dados foram simulados para servirem o próposito dos exercícios, portanto, não são verossímeis (não são reais) fazendo com que os valores negativos que constam na base tenha sua interpretação ignorada. Ou seja, não verifique a coerência dos valores numéricos de cada linha e variável do banco de dados.*"
      ],
      "metadata": {
        "id": "Qw18NN1M2wnC"
      }
    },
    {
      "cell_type": "code",
      "source": [
        "## Leitura do banco de dados\n",
        "\n",
        "#Importando as bibliotecas necessárias\n",
        "import pandas as pd\n",
        "import numpy as np\n",
        "import matplotlib.pyplot as plt\n",
        "import seaborn as sns\n",
        "from numpy import mean\n",
        "import datetime\n",
        "from pylab import rcParams\n",
        "\n",
        "df = pd.read_excel(\"/Lucas Souza - [Case]Covid_Vendas.xlsx\")\n",
        "\n",
        "\n",
        "df.head()\n",
        "\n"
      ],
      "metadata": {
        "id": "TtsWJSF855Ei",
        "colab": {
          "base_uri": "https://localhost:8080/",
          "height": 206
        },
        "outputId": "241d6b17-86f5-4eb6-dcf2-4423a370fd3d"
      },
      "execution_count": null,
      "outputs": [
        {
          "output_type": "execute_result",
          "data": {
            "text/plain": [
              "        Data  Vendas_mascaras  Confirmados_covid  Negativados_covid  \\\n",
              "0 2022-01-01     -9720.509765       -4987.382170       -5874.243660   \n",
              "1 2022-01-02    -50939.315202      119176.535463      -33368.423688   \n",
              "2 2022-01-03    -44858.430524        5488.834610       13992.071978   \n",
              "3 2022-01-04    137323.877129       59640.323314       98578.919151   \n",
              "4 2022-01-05    -44469.185816       19380.453709       30999.065352   \n",
              "\n",
              "   Mortes_covid  Frete_vendas_mascaras        MKT_R$  \n",
              "0             1              -0.160886  9.448831e+07  \n",
              "1             1              -0.756737  2.594814e+09  \n",
              "2             1               0.581338  2.012279e+09  \n",
              "3             1               0.549515  1.885785e+10  \n",
              "4             1              -0.763076  1.977508e+09  "
            ],
            "text/html": [
              "\n",
              "  <div id=\"df-40e5875b-ac19-4440-9b87-976b05c40854\">\n",
              "    <div class=\"colab-df-container\">\n",
              "      <div>\n",
              "<style scoped>\n",
              "    .dataframe tbody tr th:only-of-type {\n",
              "        vertical-align: middle;\n",
              "    }\n",
              "\n",
              "    .dataframe tbody tr th {\n",
              "        vertical-align: top;\n",
              "    }\n",
              "\n",
              "    .dataframe thead th {\n",
              "        text-align: right;\n",
              "    }\n",
              "</style>\n",
              "<table border=\"1\" class=\"dataframe\">\n",
              "  <thead>\n",
              "    <tr style=\"text-align: right;\">\n",
              "      <th></th>\n",
              "      <th>Data</th>\n",
              "      <th>Vendas_mascaras</th>\n",
              "      <th>Confirmados_covid</th>\n",
              "      <th>Negativados_covid</th>\n",
              "      <th>Mortes_covid</th>\n",
              "      <th>Frete_vendas_mascaras</th>\n",
              "      <th>MKT_R$</th>\n",
              "    </tr>\n",
              "  </thead>\n",
              "  <tbody>\n",
              "    <tr>\n",
              "      <th>0</th>\n",
              "      <td>2022-01-01</td>\n",
              "      <td>-9720.509765</td>\n",
              "      <td>-4987.382170</td>\n",
              "      <td>-5874.243660</td>\n",
              "      <td>1</td>\n",
              "      <td>-0.160886</td>\n",
              "      <td>9.448831e+07</td>\n",
              "    </tr>\n",
              "    <tr>\n",
              "      <th>1</th>\n",
              "      <td>2022-01-02</td>\n",
              "      <td>-50939.315202</td>\n",
              "      <td>119176.535463</td>\n",
              "      <td>-33368.423688</td>\n",
              "      <td>1</td>\n",
              "      <td>-0.756737</td>\n",
              "      <td>2.594814e+09</td>\n",
              "    </tr>\n",
              "    <tr>\n",
              "      <th>2</th>\n",
              "      <td>2022-01-03</td>\n",
              "      <td>-44858.430524</td>\n",
              "      <td>5488.834610</td>\n",
              "      <td>13992.071978</td>\n",
              "      <td>1</td>\n",
              "      <td>0.581338</td>\n",
              "      <td>2.012279e+09</td>\n",
              "    </tr>\n",
              "    <tr>\n",
              "      <th>3</th>\n",
              "      <td>2022-01-04</td>\n",
              "      <td>137323.877129</td>\n",
              "      <td>59640.323314</td>\n",
              "      <td>98578.919151</td>\n",
              "      <td>1</td>\n",
              "      <td>0.549515</td>\n",
              "      <td>1.885785e+10</td>\n",
              "    </tr>\n",
              "    <tr>\n",
              "      <th>4</th>\n",
              "      <td>2022-01-05</td>\n",
              "      <td>-44469.185816</td>\n",
              "      <td>19380.453709</td>\n",
              "      <td>30999.065352</td>\n",
              "      <td>1</td>\n",
              "      <td>-0.763076</td>\n",
              "      <td>1.977508e+09</td>\n",
              "    </tr>\n",
              "  </tbody>\n",
              "</table>\n",
              "</div>\n",
              "      <button class=\"colab-df-convert\" onclick=\"convertToInteractive('df-40e5875b-ac19-4440-9b87-976b05c40854')\"\n",
              "              title=\"Convert this dataframe to an interactive table.\"\n",
              "              style=\"display:none;\">\n",
              "        \n",
              "  <svg xmlns=\"http://www.w3.org/2000/svg\" height=\"24px\"viewBox=\"0 0 24 24\"\n",
              "       width=\"24px\">\n",
              "    <path d=\"M0 0h24v24H0V0z\" fill=\"none\"/>\n",
              "    <path d=\"M18.56 5.44l.94 2.06.94-2.06 2.06-.94-2.06-.94-.94-2.06-.94 2.06-2.06.94zm-11 1L8.5 8.5l.94-2.06 2.06-.94-2.06-.94L8.5 2.5l-.94 2.06-2.06.94zm10 10l.94 2.06.94-2.06 2.06-.94-2.06-.94-.94-2.06-.94 2.06-2.06.94z\"/><path d=\"M17.41 7.96l-1.37-1.37c-.4-.4-.92-.59-1.43-.59-.52 0-1.04.2-1.43.59L10.3 9.45l-7.72 7.72c-.78.78-.78 2.05 0 2.83L4 21.41c.39.39.9.59 1.41.59.51 0 1.02-.2 1.41-.59l7.78-7.78 2.81-2.81c.8-.78.8-2.07 0-2.86zM5.41 20L4 18.59l7.72-7.72 1.47 1.35L5.41 20z\"/>\n",
              "  </svg>\n",
              "      </button>\n",
              "      \n",
              "  <style>\n",
              "    .colab-df-container {\n",
              "      display:flex;\n",
              "      flex-wrap:wrap;\n",
              "      gap: 12px;\n",
              "    }\n",
              "\n",
              "    .colab-df-convert {\n",
              "      background-color: #E8F0FE;\n",
              "      border: none;\n",
              "      border-radius: 50%;\n",
              "      cursor: pointer;\n",
              "      display: none;\n",
              "      fill: #1967D2;\n",
              "      height: 32px;\n",
              "      padding: 0 0 0 0;\n",
              "      width: 32px;\n",
              "    }\n",
              "\n",
              "    .colab-df-convert:hover {\n",
              "      background-color: #E2EBFA;\n",
              "      box-shadow: 0px 1px 2px rgba(60, 64, 67, 0.3), 0px 1px 3px 1px rgba(60, 64, 67, 0.15);\n",
              "      fill: #174EA6;\n",
              "    }\n",
              "\n",
              "    [theme=dark] .colab-df-convert {\n",
              "      background-color: #3B4455;\n",
              "      fill: #D2E3FC;\n",
              "    }\n",
              "\n",
              "    [theme=dark] .colab-df-convert:hover {\n",
              "      background-color: #434B5C;\n",
              "      box-shadow: 0px 1px 3px 1px rgba(0, 0, 0, 0.15);\n",
              "      filter: drop-shadow(0px 1px 2px rgba(0, 0, 0, 0.3));\n",
              "      fill: #FFFFFF;\n",
              "    }\n",
              "  </style>\n",
              "\n",
              "      <script>\n",
              "        const buttonEl =\n",
              "          document.querySelector('#df-40e5875b-ac19-4440-9b87-976b05c40854 button.colab-df-convert');\n",
              "        buttonEl.style.display =\n",
              "          google.colab.kernel.accessAllowed ? 'block' : 'none';\n",
              "\n",
              "        async function convertToInteractive(key) {\n",
              "          const element = document.querySelector('#df-40e5875b-ac19-4440-9b87-976b05c40854');\n",
              "          const dataTable =\n",
              "            await google.colab.kernel.invokeFunction('convertToInteractive',\n",
              "                                                     [key], {});\n",
              "          if (!dataTable) return;\n",
              "\n",
              "          const docLinkHtml = 'Like what you see? Visit the ' +\n",
              "            '<a target=\"_blank\" href=https://colab.research.google.com/notebooks/data_table.ipynb>data table notebook</a>'\n",
              "            + ' to learn more about interactive tables.';\n",
              "          element.innerHTML = '';\n",
              "          dataTable['output_type'] = 'display_data';\n",
              "          await google.colab.output.renderOutput(dataTable, element);\n",
              "          const docLink = document.createElement('div');\n",
              "          docLink.innerHTML = docLinkHtml;\n",
              "          element.appendChild(docLink);\n",
              "        }\n",
              "      </script>\n",
              "    </div>\n",
              "  </div>\n",
              "  "
            ]
          },
          "metadata": {},
          "execution_count": 38
        }
      ]
    },
    {
      "cell_type": "code",
      "source": [
        "concfi = (df[\"Vendas_mascaras\"]>=0)\n",
        "concfi2 = (df[\"Confirmados_covid\"]>=0)\n",
        "\n",
        "\n",
        "df_aux = df.loc[(concfi & concfi2), [\"Data\",\"Vendas_mascaras\", \"Confirmados_covid\"]]\n",
        "df_aux\n",
        "\n",
        "df_aux['Ano'] = df['Data'].dt.strftime('%Y')\n",
        "df_aux.head()\n",
        "\n",
        "df_aux.dtypes"
      ],
      "metadata": {
        "colab": {
          "base_uri": "https://localhost:8080/"
        },
        "id": "6vmg8DMyRcmx",
        "outputId": "00fe1ce0-e5dc-46d2-b35f-c8289a6ddcc9"
      },
      "execution_count": null,
      "outputs": [
        {
          "output_type": "execute_result",
          "data": {
            "text/plain": [
              "Data                 datetime64[ns]\n",
              "Vendas_mascaras             float64\n",
              "Confirmados_covid           float64\n",
              "Ano                          object\n",
              "dtype: object"
            ]
          },
          "metadata": {},
          "execution_count": 60
        }
      ]
    },
    {
      "cell_type": "markdown",
      "source": [
        "#### **1)** Como está o relacionamento entre as variáveis *Vendas* e *Confirmados*? "
      ],
      "metadata": {
        "id": "wTzDiK6QxaT-"
      }
    },
    {
      "cell_type": "code",
      "source": [
        "## Código para resposta do ex \n",
        "\n",
        "print(df_aux.corr(method='pearson'))\n",
        "print(\"\\n\\n\")\n",
        "print(df_aux.corr(method='spearman'))"
      ],
      "metadata": {
        "id": "VY8gySf_xSKp",
        "colab": {
          "base_uri": "https://localhost:8080/"
        },
        "outputId": "15ccaee5-da7d-41f5-9213-2cc7841cfe4c"
      },
      "execution_count": null,
      "outputs": [
        {
          "output_type": "stream",
          "name": "stdout",
          "text": [
            "                   Vendas_mascaras  Confirmados_covid\n",
            "Vendas_mascaras           1.000000           0.274875\n",
            "Confirmados_covid         0.274875           1.000000\n",
            "\n",
            "\n",
            "\n",
            "                   Vendas_mascaras  Confirmados_covid\n",
            "Vendas_mascaras            1.00000            0.31279\n",
            "Confirmados_covid          0.31279            1.00000\n"
          ]
        }
      ]
    },
    {
      "cell_type": "code",
      "source": [
        "sns.scatterplot(data=df_aux, x=\"Vendas_mascaras\", y=\"Confirmados_covid\",\n",
        "                #hue= 'region',\n",
        "                #style = 'sex',\n",
        "                #size = 'married'\n",
        "                );\n",
        "\n",
        "print(\"É possível concluir que há baixa correlação entre as variáveis de Casos confirmados e compra de mascáras\\n\\n\")\n",
        "\n"
      ],
      "metadata": {
        "colab": {
          "base_uri": "https://localhost:8080/",
          "height": 332
        },
        "id": "UGNFgsZ2UZm4",
        "outputId": "c88f9365-46fa-458a-d5cf-4453a16d7277"
      },
      "execution_count": null,
      "outputs": [
        {
          "output_type": "stream",
          "name": "stdout",
          "text": [
            "É possível concluir que há baixa correlação entre as variáveis de Casos confirmados e compra de mascáras\n",
            "\n",
            "\n"
          ]
        },
        {
          "output_type": "display_data",
          "data": {
            "text/plain": [
              "<Figure size 432x288 with 1 Axes>"
            ],
            "image/png": "[encoded data removed]"
          },
          "metadata": {
            "needs_background": "light"
          }
        }
      ]
    },
    {
      "cell_type": "code",
      "source": [
        "sns.histplot(data=df_aux, \n",
        "             x=\"Vendas_mascaras\", \n",
        "             #y ='income'\n",
        "             #binwidth=1000, \n",
        "             bins = 15,\n",
        "             #kde = True,\n",
        "             #multiple=\"stack\",\n",
        "             #element=\"step\"\n",
        "             legend = True,\n",
        "             ); "
      ],
      "metadata": {
        "colab": {
          "base_uri": "https://localhost:8080/",
          "height": 280
        },
        "id": "lpQ0n0xqbG2a",
        "outputId": "22c25db2-f710-4096-8d0c-a1fb5f5236cc"
      },
      "execution_count": null,
      "outputs": [
        {
          "output_type": "display_data",
          "data": {
            "text/plain": [
              "<Figure size 432x288 with 1 Axes>"
            ],
            "image/png": "[encoded data removed]"
          },
          "metadata": {
            "needs_background": "light"
          }
        }
      ]
    },
    {
      "cell_type": "code",
      "source": [
        "sns.histplot(data=df_aux, \n",
        "             x=\"Confirmados_covid\", \n",
        "             #y ='income'\n",
        "             #binwidth=1000, \n",
        "             bins = 15,\n",
        "             #kde = True,\n",
        "             #multiple=\"stack\",\n",
        "             #element=\"step\"\n",
        "             legend = True,\n",
        "   ); "
      ],
      "metadata": {
        "colab": {
          "base_uri": "https://localhost:8080/",
          "height": 280
        },
        "id": "Lw8z80XqbZlw",
        "outputId": "884c6cff-e6a1-4be0-e922-2caf8cb57150"
      },
      "execution_count": null,
      "outputs": [
        {
          "output_type": "display_data",
          "data": {
            "text/plain": [
              "<Figure size 432x288 with 1 Axes>"
            ],
            "image/png": "[encoded data removed]"
          },
          "metadata": {
            "needs_background": "light"
          }
        }
      ]
    },
    {
      "cell_type": "markdown",
      "source": [
        "##### **a)** Quando olhamos o relacionamento destas variáveis apenas para o ano de 2020 (início da pandemia) o que notamos? E apenas para o ano de 2022? \n",
        "**b)** O que podemos concluir?  "
      ],
      "metadata": {
        "id": "V0hz-QfYzubO"
      }
    },
    {
      "cell_type": "code",
      "source": [
        "## Código para resposta do ex 1_a) e 1_b) \n",
        "\n",
        "df_2022 = df_aux.loc[df_aux[\"Ano\"]==\"2022\"]\n",
        "df_2020 = df_aux.loc[df_aux[\"Ano\"]==\"2020\"]\n",
        "\n"
      ],
      "metadata": {
        "id": "yZdOuOZo0GVA"
      },
      "execution_count": null,
      "outputs": []
    },
    {
      "cell_type": "code",
      "source": [
        "sns.histplot(data=df_2022, \n",
        "             x=\"Vendas_mascaras\", \n",
        "             #y ='income'\n",
        "             #binwidth=1000, \n",
        "             bins = 15,\n",
        "             #kde = True,\n",
        "             #multiple=\"stack\",\n",
        "             #element=\"step\"\n",
        "             legend = True,\n",
        "   ); "
      ],
      "metadata": {
        "colab": {
          "base_uri": "https://localhost:8080/",
          "height": 280
        },
        "id": "BadtzXVAbx-B",
        "outputId": "f2392bc8-22ed-4260-eedb-9d297432c1fa"
      },
      "execution_count": null,
      "outputs": [
        {
          "output_type": "display_data",
          "data": {
            "text/plain": [
              "<Figure size 432x288 with 1 Axes>"
            ],
            "image/png": "[encoded data removed]"
          },
          "metadata": {
            "needs_background": "light"
          }
        }
      ]
    },
    {
      "cell_type": "code",
      "source": [
        "df_aux\n",
        "sns.barplot(\n",
        "    x=\"Ano\",\n",
        "    y=\"Vendas_mascaras\",\n",
        "    estimator = sum,\n",
        "    data = df_aux,\n",
        "    ci = False\n",
        ")"
      ],
      "metadata": {
        "colab": {
          "base_uri": "https://localhost:8080/",
          "height": 307
        },
        "id": "_3WrFMHuccA2",
        "outputId": "d217bb6c-d042-4521-c9a7-56de4182f1a1"
      },
      "execution_count": null,
      "outputs": [
        {
          "output_type": "execute_result",
          "data": {
            "text/plain": [
              "<matplotlib.axes._subplots.AxesSubplot at 0x7f01618e4e10>"
            ]
          },
          "metadata": {},
          "execution_count": 108
        },
        {
          "output_type": "display_data",
          "data": {
            "text/plain": [
              "<Figure size 432x288 with 1 Axes>"
            ],
            "image/png": "[encoded data removed]"
          },
          "metadata": {
            "needs_background": "light"
          }
        }
      ]
    },
    {
      "cell_type": "code",
      "source": [
        "#2020\n",
        "\n",
        "print(df_2020.corr(method='pearson'))\n",
        "print(\"\\n\")\n",
        "\n",
        "sns.scatterplot(data=df_2020, x=\"Vendas_mascaras\", y=\"Confirmados_covid\",\n",
        "                #hue= 'region',\n",
        "                #style = 'sex',\n",
        "                #size = 'married'\n",
        "                );\n",
        "\n",
        "print(\"É possível concluir que para o ano de 2020 há maior correlação entre as variáveis de Casos confirmados e compra de mascáras\\n\\n\")"
      ],
      "metadata": {
        "colab": {
          "base_uri": "https://localhost:8080/",
          "height": 419
        },
        "id": "-EN3fe-cWtYD",
        "outputId": "81d8332b-b888-4c3a-cf24-683663264da3"
      },
      "execution_count": null,
      "outputs": [
        {
          "output_type": "stream",
          "name": "stdout",
          "text": [
            "                   Vendas_mascaras  Confirmados_covid\n",
            "Vendas_mascaras           1.000000           0.491738\n",
            "Confirmados_covid         0.491738           1.000000\n",
            "\n",
            "\n",
            "É possível concluir que para o ano de 2020 há maior correlação entre as variáveis de Casos confirmados e compra de mascáras\n",
            "\n",
            "\n"
          ]
        },
        {
          "output_type": "display_data",
          "data": {
            "text/plain": [
              "<Figure size 432x288 with 1 Axes>"
            ],
            "image/png": "[encoded data removed]"
          },
          "metadata": {
            "needs_background": "light"
          }
        }
      ]
    },
    {
      "cell_type": "code",
      "source": [
        "#2022\n",
        "\n",
        "print(df_2022.corr(method='pearson'))\n",
        "print(\"\\n\")\n",
        "\n",
        "sns.scatterplot(data=df_2022, x=\"Vendas_mascaras\", y=\"Confirmados_covid\",\n",
        "                #hue= 'region',\n",
        "                #style = 'sex',\n",
        "                #size = 'married'\n",
        "                );\n",
        "\n",
        "print(\"É possível concluir que para o ano de 2022 há baixa/quase nenhuma correlação entre as variáveis de Casos confirmados e compra de mascáras\\n\\n\")"
      ],
      "metadata": {
        "colab": {
          "base_uri": "https://localhost:8080/",
          "height": 439
        },
        "id": "LydS8MW0W0uc",
        "outputId": "1f7ae9b0-0c03-46b0-d067-87bb4cb664df"
      },
      "execution_count": null,
      "outputs": [
        {
          "output_type": "stream",
          "name": "stdout",
          "text": [
            "                   Vendas_mascaras  Confirmados_covid\n",
            "Vendas_mascaras            1.00000           -0.06118\n",
            "Confirmados_covid         -0.06118            1.00000\n",
            "\n",
            "\n",
            "É possível concluir que para o ano de 2022 há baixa/quase nenhuma correlação entre as variáveis de Casos confirmados e compra de mascáras\n",
            "\n",
            "\n"
          ]
        },
        {
          "output_type": "display_data",
          "data": {
            "text/plain": [
              "<Figure size 432x288 with 1 Axes>"
            ],
            "image/png": "[encoded data removed]"
          },
          "metadata": {
            "needs_background": "light"
          }
        }
      ]
    },
    {
      "cell_type": "markdown",
      "source": [
        "#### **2)** Qual variável provavelmente pode possuir um poder maior de influência na variável *Vendas*? Por quê? Explique e demonstre seu raciocínio."
      ],
      "metadata": {
        "id": "jPUktUOex6HM"
      }
    },
    {
      "cell_type": "code",
      "execution_count": null,
      "metadata": {
        "id": "-qJRwgQv2eNl",
        "colab": {
          "base_uri": "https://localhost:8080/"
        },
        "outputId": "8de9f3be-9dfe-4305-dc98-e198ecce9a32"
      },
      "outputs": [
        {
          "output_type": "stream",
          "name": "stdout",
          "text": [
            "                 Vendas_mascaras    MKT_R$\n",
            "Vendas_mascaras         1.000000  0.965035\n",
            "MKT_R$                  0.965035  1.000000\n"
          ]
        }
      ],
      "source": [
        "## Código para resposta do ex 2\n",
        "\n",
        "##Empiricamente podemos supor que as vendas de máscaras são influênciadas pelo investimento em MKT.\n",
        "##Provando hipótese: \n",
        "\n",
        "\n",
        "concfi = (df[\"Vendas_mascaras\"]>=0)\n",
        "concfi2 = (df[\"MKT_R$\"]>=0)\n",
        "\n",
        "#É possível concluir que existe uma alta correlação entre as duas variáveis \n",
        "\n",
        "df_aux2 = df.loc[(concfi & concfi2), [\"Data\",\"Vendas_mascaras\", \"MKT_R$\"]]\n",
        "df_aux2\n",
        "\n",
        "print(df_aux2.corr(method=\"pearson\"))\n"
      ]
    },
    {
      "cell_type": "code",
      "source": [
        "sns.histplot(data=df_aux2, \n",
        "             x=\"MKT_R$\", \n",
        "             #y ='income'\n",
        "             #binwidth=1000, \n",
        "             bins = 15,\n",
        "             #kde = True,\n",
        "             #multiple=\"stack\",\n",
        "             #element=\"step\"\n",
        "             legend = True,\n",
        "   ); "
      ],
      "metadata": {
        "colab": {
          "base_uri": "https://localhost:8080/",
          "height": 280
        },
        "id": "De8YutO1cEas",
        "outputId": "51908b7f-cba6-440e-b650-fb092eacbd2c"
      },
      "execution_count": null,
      "outputs": [
        {
          "output_type": "display_data",
          "data": {
            "text/plain": [
              "<Figure size 432x288 with 1 Axes>"
            ],
            "image/png": "[encoded data removed]"
          },
          "metadata": {
            "needs_background": "light"
          }
        }
      ]
    },
    {
      "cell_type": "markdown",
      "source": [
        "#### **3)** Em relação à variável *Vendas* e à variável *MKT*, notamos algo diferente? Como é o relacionamento dessas variáveis?"
      ],
      "metadata": {
        "id": "BSxMLz9dyYxn"
      }
    },
    {
      "cell_type": "code",
      "source": [
        "## Código para resposta do ex 3\n",
        "\n",
        "#Scatterplot mostando o comportamento entre as variáveis\n",
        "\n",
        "sns.scatterplot(\n",
        "      x = \"Vendas_mascaras\",\n",
        "      y = \"MKT_R$\",\n",
        "      data = df_aux2\n",
        ")\n",
        "\n",
        "#Entre as variáveis é possível ver um comportamento exponencial"
      ],
      "metadata": {
        "id": "R1rW2ILu6JfE",
        "colab": {
          "base_uri": "https://localhost:8080/",
          "height": 308
        },
        "outputId": "63dc9698-1adb-4bcd-8e4c-f29ad575cf78"
      },
      "execution_count": null,
      "outputs": [
        {
          "output_type": "execute_result",
          "data": {
            "text/plain": [
              "<matplotlib.axes._subplots.AxesSubplot at 0x7f0161944a10>"
            ]
          },
          "metadata": {},
          "execution_count": 88
        },
        {
          "output_type": "display_data",
          "data": {
            "text/plain": [
              "<Figure size 432x288 with 1 Axes>"
            ],
            "image/png": "[encoded data removed]"
          },
          "metadata": {
            "needs_background": "light"
          }
        }
      ]
    },
    {
      "cell_type": "code",
      "source": [
        "df_aux\n",
        "\n",
        "\n",
        "df_aux[\"Ano\"].replace(\"2020\", \"Antes da Vacina\", inplace= True)\n",
        "df_aux[\"Ano\"].replace(\"2022\", \"Depois da Vacina\", inplace= True)\n",
        "\n",
        "df_sVacina = df_aux.loc[df_aux[\"Ano\"] == \"Antes da Vacina\"]\n",
        "df_Vacina = df_aux.loc[df_aux[\"Ano\"] == \"Depois da Vacina\"]\n",
        "\n",
        "max = df_aux[\"Vendas_mascaras\"].max()\n",
        "min = df_aux[\"Vendas_mascaras\"].min()\n",
        "\n",
        "faixas = 5\n",
        "\n",
        "amplitude = round((max - min)/faixas,2)\n",
        "\n",
        "amplitude"
      ],
      "metadata": {
        "colab": {
          "base_uri": "https://localhost:8080/"
        },
        "id": "JEpoNAlJdU3G",
        "outputId": "4efad61e-9767-4734-d1c5-306c1d83d8ec"
      },
      "execution_count": null,
      "outputs": [
        {
          "output_type": "execute_result",
          "data": {
            "text/plain": [
              "31904.22"
            ]
          },
          "metadata": {},
          "execution_count": 162
        }
      ]
    },
    {
      "cell_type": "code",
      "source": [
        "valores_Fim = []\n",
        "faixa = min\n",
        "while(faixa < max):\n",
        "  minaux = faixa\n",
        "  faixa = faixa + amplitude\n",
        "  maxaux = faixa\n",
        "  concfi = (df_sVacina[\"Vendas_mascaras\"]>=minaux)\n",
        "  concfi2 = (df_sVacina[\"Vendas_mascaras\"]<= maxaux)\n",
        "\n",
        "  aux = df_sVacina.loc[(concfi & concfi2),\"Vendas_mascaras\"].count()\n",
        "  valores_Fim.append(aux)\n",
        "\n",
        "#valores_Fim\n",
        "\n",
        "valores_Fim2 = []\n",
        "faixa = min\n",
        "while(faixa < max):\n",
        "  minaux = faixa\n",
        "  faixa = faixa + amplitude\n",
        "  maxaux = faixa\n",
        "  concfi = (df_Vacina[\"Vendas_mascaras\"]>=minaux)\n",
        "  concfi2 = (df_Vacina[\"Vendas_mascaras\"]<= maxaux)\n",
        "\n",
        "  aux = df_Vacina.loc[(concfi & concfi2),\"Vendas_mascaras\"].count()\n",
        "  valores_Fim2.append(aux)\n",
        "\n",
        "dfFinal =[[valores_Fim],[valores_Fim2]]\n",
        "\n",
        "dfFinal\n",
        "\n"
      ],
      "metadata": {
        "colab": {
          "base_uri": "https://localhost:8080/"
        },
        "id": "Gof53PFCgbDe",
        "outputId": "16ea7bdf-06cd-4f34-91bb-4a6f92806dd9"
      },
      "execution_count": null,
      "outputs": [
        {
          "output_type": "execute_result",
          "data": {
            "text/plain": [
              "[[[5, 9, 5, 11, 6]], [[4, 1, 4, 6, 3]]]"
            ]
          },
          "metadata": {},
          "execution_count": 172
        }
      ]
    },
    {
      "cell_type": "code",
      "source": [
        "pip install scipy"
      ],
      "metadata": {
        "colab": {
          "base_uri": "https://localhost:8080/"
        },
        "id": "O6BJFLJRhNOF",
        "outputId": "24d774de-e1f1-4120-999e-c3b2fcf70242"
      },
      "execution_count": null,
      "outputs": [
        {
          "output_type": "stream",
          "name": "stdout",
          "text": [
            "Looking in indexes: https://pypi.org/simple, https://us-python.pkg.dev/colab-wheels/public/simple/\n",
            "Requirement already satisfied: scipy in /usr/local/lib/python3.7/dist-packages (1.7.3)\n",
            "Requirement already satisfied: numpy<1.23.0,>=1.16.5 in /usr/local/lib/python3.7/dist-packages (from scipy) (1.21.6)\n"
          ]
        }
      ]
    },
    {
      "cell_type": "code",
      "source": [
        "from scipy.stats import chi2_contingency\n",
        "\n",
        "score = dfFinal\n",
        "stat, p, dof, expected = chi2_contingency(score) #Infos teóricas sobre cada parâmetro (stat, p...) no primeiro link \"Teo sobre Qui-Qua\""
      ],
      "metadata": {
        "id": "5oKu_wPghSwt"
      },
      "execution_count": null,
      "outputs": []
    },
    {
      "cell_type": "code",
      "source": [
        "chi2_contingency(score)"
      ],
      "metadata": {
        "colab": {
          "base_uri": "https://localhost:8080/"
        },
        "id": "Mcjpz55yhYIG",
        "outputId": "5ecbf137-0b7d-44ca-9590-6948f4cad4ac"
      },
      "execution_count": null,
      "outputs": [
        {
          "output_type": "execute_result",
          "data": {
            "text/plain": [
              "(3.4794117647058824,\n",
              " 0.4810157284544434,\n",
              " 4,\n",
              " array([[[ 6.        ,  6.66666667,  6.        , 11.33333333,\n",
              "           6.        ]],\n",
              " \n",
              "        [[ 3.        ,  3.33333333,  3.        ,  5.66666667,\n",
              "           3.        ]]]))"
            ]
          },
          "metadata": {},
          "execution_count": 165
        }
      ]
    },
    {
      "cell_type": "code",
      "source": [
        "alpha = 0.05\n",
        " \n",
        "print(\"O valor resultante do teste é: \" + str(p))\n",
        "if p <= alpha:\n",
        "    print('Dependente (rejeita H0).')\n",
        "else:\n",
        "    print('Independente (não rejeita H0).')"
      ],
      "metadata": {
        "colab": {
          "base_uri": "https://localhost:8080/"
        },
        "id": "cR0U9Knkho9b",
        "outputId": "5faf9fdd-7ac3-4bb2-9605-504972097d97"
      },
      "execution_count": null,
      "outputs": [
        {
          "output_type": "stream",
          "name": "stdout",
          "text": [
            "O valor resultante do teste é: 0.4810157284544434\n",
            "Independente (não rejeita H0).\n"
          ]
        }
      ]
    }
  ]
}