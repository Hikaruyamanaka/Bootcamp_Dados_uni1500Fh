{
  "nbformat": 4,
  "nbformat_minor": 0,
  "metadata": {
    "colab": {
      "name": "Desafio2.ipynb",
      "provenance": [],
      "collapsed_sections": []
    },
    "kernelspec": {
      "name": "python3",
      "display_name": "Python 3"
    },
    "language_info": {
      "name": "python"
    }
  },
  "cells": [
    {
      "cell_type": "code",
      "execution_count": 43,
      "metadata": {
        "id": "ly1kIF9DukVb"
      },
      "outputs": [],
      "source": [
        "import pandas as pd\n",
        "import numpy as np\n",
        "import datetime\n",
        "from pandas.core.frame import DataFrame\n"
      ]
    },
    {
      "cell_type": "code",
      "source": [
        "# round\n",
        "\n",
        "# - temp : Normalized temperature in Celsius. The values are divided to 41 (max)\n",
        "# - atemp: Normalized feeling temperature in Celsius. The values are divided to 50 (max)\n",
        "# - hum: Normalized humidity. The values are divided to 100 (max)\n",
        "# - windspeed: Normalized wind speed. The values are divided to 67 (max)\n",
        "\n",
        "\n",
        "\n",
        "# inplace = True\n",
        "\n",
        "\n",
        "# df['coluna'].fillna(df['coluna'].mean(), inplace= True)\n"
      ],
      "metadata": {
        "id": "3AbYGlUC5nME"
      },
      "execution_count": null,
      "outputs": []
    },
    {
      "cell_type": "code",
      "source": [
        "df = pd.read_csv('/content/Dados - Desafio 2.csv',\n",
        "                 sep = ';',\n",
        "                 parse_dates = ['dteday'],\n",
        "                 dayfirst = True,\n",
        "                 decimal = ','\n",
        ")            "
      ],
      "metadata": {
        "id": "v-Q3_UrZvyx0"
      },
      "execution_count": 44,
      "outputs": []
    },
    {
      "cell_type": "code",
      "source": [
        "# df['hr'] = df.hr.astype('object')"
      ],
      "metadata": {
        "id": "s_ADwnlNDaM1"
      },
      "execution_count": null,
      "outputs": []
    },
    {
      "cell_type": "code",
      "source": [
        "# Mostra o banco de dados\n",
        "df"
      ],
      "metadata": {
        "id": "zibVJiH8v0Sv"
      },
      "execution_count": null,
      "outputs": []
    },
    {
      "cell_type": "code",
      "source": [
        "# Mostra o tipo dos valores de cada coluna\n",
        "df.dtypes"
      ],
      "metadata": {
        "id": "BYjvGIzPxqay"
      },
      "execution_count": null,
      "outputs": []
    },
    {
      "cell_type": "code",
      "source": [
        "# Mostra se estão vazios em boleano\n",
        "pd.isna(df['season'])"
      ],
      "metadata": {
        "id": "PHP7fr4byY7b"
      },
      "execution_count": null,
      "outputs": []
    },
    {
      "cell_type": "code",
      "source": [
        "# Remove a coluna que tem valores nulos\n",
        "df.dropna(axis=1, how='all', inplace = True )"
      ],
      "metadata": {
        "id": "kwLKt8OjNRTK"
      },
      "execution_count": 54,
      "outputs": []
    },
    {
      "cell_type": "code",
      "source": [
        "# Remove a coluna que tem valores nulos\n",
        "del df['season']"
      ],
      "metadata": {
        "id": "NB6zgJYO-Y82"
      },
      "execution_count": 51,
      "outputs": []
    },
    {
      "cell_type": "code",
      "source": [
        "# Lista tudo o que é nulo\n",
        "df.isnull().sum()\n"
      ],
      "metadata": {
        "id": "qnnQo6HjFOFx",
        "colab": {
          "base_uri": "https://localhost:8080/"
        },
        "outputId": "923878b2-f9ea-46d1-8c10-5f1223961bcd"
      },
      "execution_count": 58,
      "outputs": [
        {
          "output_type": "execute_result",
          "data": {
            "text/plain": [
              "ID            0\n",
              "dteday        0\n",
              "hr            0\n",
              "weathersit    0\n",
              "temp          0\n",
              "atemp         0\n",
              "hum           0\n",
              "windspeed     0\n",
              "casual        0\n",
              "dtype: int64"
            ]
          },
          "metadata": {},
          "execution_count": 58
        }
      ]
    },
    {
      "cell_type": "code",
      "source": [
        "# Tratandndo os dados nulos com valores ou informações\n",
        "df['atemp'].fillna(df['atemp'].mean(), inplace= True)\n",
        "df['temp'].fillna(df['temp'].mean(), inplace= True)\n",
        "df['weathersit'].fillna('No info', inplace = True)\n",
        "df['windspeed'].fillna(df['windspeed'].mean(), inplace= True)\n",
        "df['hum'].fillna(df['hum'].mean(), inplace= True)\n",
        "df['dteday'].fillna(df.ffill()['dteday'], inplace = True)\n",
        "\n",
        "# Preenchendo com os valores de baixo\n",
        "# df['dteday'].fillna(method = \"bfill\", limit = 1, inplace = True) "
      ],
      "metadata": {
        "id": "p3SMpL4k-faQ"
      },
      "execution_count": 57,
      "outputs": []
    }
  ]
}